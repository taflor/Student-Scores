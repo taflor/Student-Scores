{
 "cells": [
  {
   "cell_type": "markdown",
   "metadata": {},
   "source": [
    "# Student Scores: Modeling"
   ]
  },
  {
   "cell_type": "markdown",
   "metadata": {},
   "source": [
    "# Load Required Python Packages"
   ]
  },
  {
   "cell_type": "code",
   "execution_count": 1,
   "metadata": {},
   "outputs": [
    {
     "name": "stderr",
     "output_type": "stream",
     "text": [
      "/Users/tiffanyflor/.pyenv/versions/3.8.2/lib/python3.8/site-packages/pandas/compat/__init__.py:120: UserWarning: Could not import the lzma module. Your installed Python is incomplete. Attempting to use lzma compression will result in a RuntimeError.\n",
      "  warnings.warn(msg)\n"
     ]
    }
   ],
   "source": [
    "import os\n",
    "import pandas as pd\n",
    "import numpy as np\n",
    "import matplotlib.pyplot as plt\n",
    "import seaborn as sns\n",
    "\n",
    "%matplotlib inline"
   ]
  },
  {
   "cell_type": "markdown",
   "metadata": {},
   "source": [
    "**Locate and print current working directory and parent directory.**"
   ]
  },
  {
   "cell_type": "code",
   "execution_count": 2,
   "metadata": {},
   "outputs": [
    {
     "name": "stdout",
     "output_type": "stream",
     "text": [
      "/Users/tiffanyflor/Dropbox/MyProjects/Student Scores/notebooks\n",
      "/Users/tiffanyflor/Dropbox/MyProjects/Student Scores\n"
     ]
    }
   ],
   "source": [
    "path = os.getcwd()\n",
    "parent = os.path.dirname(path)\n",
    "print(path)\n",
    "print(parent)"
   ]
  },
  {
   "cell_type": "markdown",
   "metadata": {},
   "source": [
    "**Print contents of data/interim.**"
   ]
  },
  {
   "cell_type": "code",
   "execution_count": 3,
   "metadata": {},
   "outputs": [
    {
     "data": {
      "text/plain": [
       "['total_student_scores_without_dummies.csv',\n",
       " 'cleaned_student_scores.csv',\n",
       " 'student_scores_no_outliers.csv',\n",
       " 'total_student_scores_dummies.csv',\n",
       " '.ipynb_checkpoints']"
      ]
     },
     "execution_count": 3,
     "metadata": {},
     "output_type": "execute_result"
    }
   ],
   "source": [
    "os.listdir(parent+'/data/interim')"
   ]
  },
  {
   "cell_type": "markdown",
   "metadata": {},
   "source": [
    "# Load Data"
   ]
  },
  {
   "cell_type": "code",
   "execution_count": 4,
   "metadata": {},
   "outputs": [],
   "source": [
    "df = pd.read_csv(parent+'/data/interim/total_student_scores_dummies.csv',index_col=0)"
   ]
  },
  {
   "cell_type": "code",
   "execution_count": 5,
   "metadata": {},
   "outputs": [
    {
     "data": {
      "text/html": [
       "<div>\n",
       "<style scoped>\n",
       "    .dataframe tbody tr th:only-of-type {\n",
       "        vertical-align: middle;\n",
       "    }\n",
       "\n",
       "    .dataframe tbody tr th {\n",
       "        vertical-align: top;\n",
       "    }\n",
       "\n",
       "    .dataframe thead th {\n",
       "        text-align: right;\n",
       "    }\n",
       "</style>\n",
       "<table border=\"1\" class=\"dataframe\">\n",
       "  <thead>\n",
       "    <tr style=\"text-align: right;\">\n",
       "      <th></th>\n",
       "      <th>test preparation course</th>\n",
       "      <th>education</th>\n",
       "      <th>gender_female</th>\n",
       "      <th>gender_male</th>\n",
       "      <th>race/ethnicity_group A</th>\n",
       "      <th>race/ethnicity_group B</th>\n",
       "      <th>race/ethnicity_group C</th>\n",
       "      <th>race/ethnicity_group D</th>\n",
       "      <th>race/ethnicity_group E</th>\n",
       "      <th>parental level of education_associate's degree</th>\n",
       "      <th>parental level of education_bachelor's degree</th>\n",
       "      <th>parental level of education_high school</th>\n",
       "      <th>parental level of education_master's degree</th>\n",
       "      <th>parental level of education_some college</th>\n",
       "      <th>parental level of education_some high school</th>\n",
       "      <th>lunch_free/reduced</th>\n",
       "      <th>lunch_standard</th>\n",
       "      <th>Grade</th>\n",
       "    </tr>\n",
       "  </thead>\n",
       "  <tbody>\n",
       "    <tr>\n",
       "      <th>0</th>\n",
       "      <td>0</td>\n",
       "      <td>1</td>\n",
       "      <td>1</td>\n",
       "      <td>0</td>\n",
       "      <td>0</td>\n",
       "      <td>1</td>\n",
       "      <td>0</td>\n",
       "      <td>0</td>\n",
       "      <td>0</td>\n",
       "      <td>0</td>\n",
       "      <td>1</td>\n",
       "      <td>0</td>\n",
       "      <td>0</td>\n",
       "      <td>0</td>\n",
       "      <td>0</td>\n",
       "      <td>0</td>\n",
       "      <td>1</td>\n",
       "      <td>pass</td>\n",
       "    </tr>\n",
       "    <tr>\n",
       "      <th>1</th>\n",
       "      <td>1</td>\n",
       "      <td>1</td>\n",
       "      <td>1</td>\n",
       "      <td>0</td>\n",
       "      <td>0</td>\n",
       "      <td>0</td>\n",
       "      <td>1</td>\n",
       "      <td>0</td>\n",
       "      <td>0</td>\n",
       "      <td>0</td>\n",
       "      <td>0</td>\n",
       "      <td>0</td>\n",
       "      <td>0</td>\n",
       "      <td>1</td>\n",
       "      <td>0</td>\n",
       "      <td>0</td>\n",
       "      <td>1</td>\n",
       "      <td>pass</td>\n",
       "    </tr>\n",
       "    <tr>\n",
       "      <th>2</th>\n",
       "      <td>0</td>\n",
       "      <td>1</td>\n",
       "      <td>1</td>\n",
       "      <td>0</td>\n",
       "      <td>0</td>\n",
       "      <td>1</td>\n",
       "      <td>0</td>\n",
       "      <td>0</td>\n",
       "      <td>0</td>\n",
       "      <td>0</td>\n",
       "      <td>0</td>\n",
       "      <td>0</td>\n",
       "      <td>1</td>\n",
       "      <td>0</td>\n",
       "      <td>0</td>\n",
       "      <td>0</td>\n",
       "      <td>1</td>\n",
       "      <td>pass</td>\n",
       "    </tr>\n",
       "    <tr>\n",
       "      <th>3</th>\n",
       "      <td>0</td>\n",
       "      <td>1</td>\n",
       "      <td>0</td>\n",
       "      <td>1</td>\n",
       "      <td>1</td>\n",
       "      <td>0</td>\n",
       "      <td>0</td>\n",
       "      <td>0</td>\n",
       "      <td>0</td>\n",
       "      <td>1</td>\n",
       "      <td>0</td>\n",
       "      <td>0</td>\n",
       "      <td>0</td>\n",
       "      <td>0</td>\n",
       "      <td>0</td>\n",
       "      <td>1</td>\n",
       "      <td>0</td>\n",
       "      <td>fail</td>\n",
       "    </tr>\n",
       "    <tr>\n",
       "      <th>4</th>\n",
       "      <td>0</td>\n",
       "      <td>1</td>\n",
       "      <td>0</td>\n",
       "      <td>1</td>\n",
       "      <td>0</td>\n",
       "      <td>0</td>\n",
       "      <td>1</td>\n",
       "      <td>0</td>\n",
       "      <td>0</td>\n",
       "      <td>0</td>\n",
       "      <td>0</td>\n",
       "      <td>0</td>\n",
       "      <td>0</td>\n",
       "      <td>1</td>\n",
       "      <td>0</td>\n",
       "      <td>0</td>\n",
       "      <td>1</td>\n",
       "      <td>pass</td>\n",
       "    </tr>\n",
       "  </tbody>\n",
       "</table>\n",
       "</div>"
      ],
      "text/plain": [
       "   test preparation course  education  gender_female  gender_male  \\\n",
       "0                        0          1              1            0   \n",
       "1                        1          1              1            0   \n",
       "2                        0          1              1            0   \n",
       "3                        0          1              0            1   \n",
       "4                        0          1              0            1   \n",
       "\n",
       "   race/ethnicity_group A  race/ethnicity_group B  race/ethnicity_group C  \\\n",
       "0                       0                       1                       0   \n",
       "1                       0                       0                       1   \n",
       "2                       0                       1                       0   \n",
       "3                       1                       0                       0   \n",
       "4                       0                       0                       1   \n",
       "\n",
       "   race/ethnicity_group D  race/ethnicity_group E  \\\n",
       "0                       0                       0   \n",
       "1                       0                       0   \n",
       "2                       0                       0   \n",
       "3                       0                       0   \n",
       "4                       0                       0   \n",
       "\n",
       "   parental level of education_associate's degree  \\\n",
       "0                                               0   \n",
       "1                                               0   \n",
       "2                                               0   \n",
       "3                                               1   \n",
       "4                                               0   \n",
       "\n",
       "   parental level of education_bachelor's degree  \\\n",
       "0                                              1   \n",
       "1                                              0   \n",
       "2                                              0   \n",
       "3                                              0   \n",
       "4                                              0   \n",
       "\n",
       "   parental level of education_high school  \\\n",
       "0                                        0   \n",
       "1                                        0   \n",
       "2                                        0   \n",
       "3                                        0   \n",
       "4                                        0   \n",
       "\n",
       "   parental level of education_master's degree  \\\n",
       "0                                            0   \n",
       "1                                            0   \n",
       "2                                            1   \n",
       "3                                            0   \n",
       "4                                            0   \n",
       "\n",
       "   parental level of education_some college  \\\n",
       "0                                         0   \n",
       "1                                         1   \n",
       "2                                         0   \n",
       "3                                         0   \n",
       "4                                         1   \n",
       "\n",
       "   parental level of education_some high school  lunch_free/reduced  \\\n",
       "0                                             0                   0   \n",
       "1                                             0                   0   \n",
       "2                                             0                   0   \n",
       "3                                             0                   1   \n",
       "4                                             0                   0   \n",
       "\n",
       "   lunch_standard Grade  \n",
       "0               1  pass  \n",
       "1               1  pass  \n",
       "2               1  pass  \n",
       "3               0  fail  \n",
       "4               1  pass  "
      ]
     },
     "execution_count": 5,
     "metadata": {},
     "output_type": "execute_result"
    }
   ],
   "source": [
    "df.head()"
   ]
  },
  {
   "cell_type": "code",
   "execution_count": 6,
   "metadata": {},
   "outputs": [
    {
     "data": {
      "text/plain": [
       "(5000, 18)"
      ]
     },
     "execution_count": 6,
     "metadata": {},
     "output_type": "execute_result"
    }
   ],
   "source": [
    "df.shape"
   ]
  },
  {
   "cell_type": "code",
   "execution_count": 7,
   "metadata": {},
   "outputs": [
    {
     "name": "stdout",
     "output_type": "stream",
     "text": [
      "<class 'pandas.core.frame.DataFrame'>\n",
      "Int64Index: 5000 entries, 0 to 999\n",
      "Data columns (total 18 columns):\n",
      " #   Column                                          Non-Null Count  Dtype \n",
      "---  ------                                          --------------  ----- \n",
      " 0   test preparation course                         5000 non-null   int64 \n",
      " 1   education                                       5000 non-null   int64 \n",
      " 2   gender_female                                   5000 non-null   int64 \n",
      " 3   gender_male                                     5000 non-null   int64 \n",
      " 4   race/ethnicity_group A                          5000 non-null   int64 \n",
      " 5   race/ethnicity_group B                          5000 non-null   int64 \n",
      " 6   race/ethnicity_group C                          5000 non-null   int64 \n",
      " 7   race/ethnicity_group D                          5000 non-null   int64 \n",
      " 8   race/ethnicity_group E                          5000 non-null   int64 \n",
      " 9   parental level of education_associate's degree  5000 non-null   int64 \n",
      " 10  parental level of education_bachelor's degree   5000 non-null   int64 \n",
      " 11  parental level of education_high school         5000 non-null   int64 \n",
      " 12  parental level of education_master's degree     5000 non-null   int64 \n",
      " 13  parental level of education_some college        5000 non-null   int64 \n",
      " 14  parental level of education_some high school    5000 non-null   int64 \n",
      " 15  lunch_free/reduced                              5000 non-null   int64 \n",
      " 16  lunch_standard                                  5000 non-null   int64 \n",
      " 17  Grade                                           5000 non-null   object\n",
      "dtypes: int64(17), object(1)\n",
      "memory usage: 742.2+ KB\n"
     ]
    }
   ],
   "source": [
    "df.info()"
   ]
  },
  {
   "cell_type": "markdown",
   "metadata": {},
   "source": [
    "# Split into Train and Test Data"
   ]
  },
  {
   "cell_type": "code",
   "execution_count": 8,
   "metadata": {},
   "outputs": [],
   "source": [
    "from sklearn.model_selection import train_test_split\n",
    "X = df.drop('Grade',axis=1)\n",
    "y = df['Grade']\n",
    "X_train, X_test, y_train, y_test = train_test_split(X,y,test_size=0.2,random_state=27)"
   ]
  },
  {
   "cell_type": "code",
   "execution_count": 9,
   "metadata": {},
   "outputs": [
    {
     "data": {
      "text/html": [
       "<div>\n",
       "<style scoped>\n",
       "    .dataframe tbody tr th:only-of-type {\n",
       "        vertical-align: middle;\n",
       "    }\n",
       "\n",
       "    .dataframe tbody tr th {\n",
       "        vertical-align: top;\n",
       "    }\n",
       "\n",
       "    .dataframe thead th {\n",
       "        text-align: right;\n",
       "    }\n",
       "</style>\n",
       "<table border=\"1\" class=\"dataframe\">\n",
       "  <thead>\n",
       "    <tr style=\"text-align: right;\">\n",
       "      <th></th>\n",
       "      <th>count</th>\n",
       "      <th>mean</th>\n",
       "      <th>std</th>\n",
       "      <th>min</th>\n",
       "      <th>25%</th>\n",
       "      <th>50%</th>\n",
       "      <th>75%</th>\n",
       "      <th>max</th>\n",
       "    </tr>\n",
       "  </thead>\n",
       "  <tbody>\n",
       "    <tr>\n",
       "      <th>test preparation course</th>\n",
       "      <td>5000.0</td>\n",
       "      <td>0.3422</td>\n",
       "      <td>0.474494</td>\n",
       "      <td>0.0</td>\n",
       "      <td>0.0</td>\n",
       "      <td>0.0</td>\n",
       "      <td>1.0</td>\n",
       "      <td>1.0</td>\n",
       "    </tr>\n",
       "    <tr>\n",
       "      <th>education</th>\n",
       "      <td>5000.0</td>\n",
       "      <td>0.6168</td>\n",
       "      <td>0.486215</td>\n",
       "      <td>0.0</td>\n",
       "      <td>0.0</td>\n",
       "      <td>1.0</td>\n",
       "      <td>1.0</td>\n",
       "      <td>1.0</td>\n",
       "    </tr>\n",
       "    <tr>\n",
       "      <th>gender_female</th>\n",
       "      <td>5000.0</td>\n",
       "      <td>0.5024</td>\n",
       "      <td>0.500044</td>\n",
       "      <td>0.0</td>\n",
       "      <td>0.0</td>\n",
       "      <td>1.0</td>\n",
       "      <td>1.0</td>\n",
       "      <td>1.0</td>\n",
       "    </tr>\n",
       "    <tr>\n",
       "      <th>gender_male</th>\n",
       "      <td>5000.0</td>\n",
       "      <td>0.4976</td>\n",
       "      <td>0.500044</td>\n",
       "      <td>0.0</td>\n",
       "      <td>0.0</td>\n",
       "      <td>0.0</td>\n",
       "      <td>1.0</td>\n",
       "      <td>1.0</td>\n",
       "    </tr>\n",
       "    <tr>\n",
       "      <th>race/ethnicity_group A</th>\n",
       "      <td>5000.0</td>\n",
       "      <td>0.0828</td>\n",
       "      <td>0.275607</td>\n",
       "      <td>0.0</td>\n",
       "      <td>0.0</td>\n",
       "      <td>0.0</td>\n",
       "      <td>0.0</td>\n",
       "      <td>1.0</td>\n",
       "    </tr>\n",
       "    <tr>\n",
       "      <th>race/ethnicity_group B</th>\n",
       "      <td>5000.0</td>\n",
       "      <td>0.1952</td>\n",
       "      <td>0.396394</td>\n",
       "      <td>0.0</td>\n",
       "      <td>0.0</td>\n",
       "      <td>0.0</td>\n",
       "      <td>0.0</td>\n",
       "      <td>1.0</td>\n",
       "    </tr>\n",
       "    <tr>\n",
       "      <th>race/ethnicity_group C</th>\n",
       "      <td>5000.0</td>\n",
       "      <td>0.3190</td>\n",
       "      <td>0.466136</td>\n",
       "      <td>0.0</td>\n",
       "      <td>0.0</td>\n",
       "      <td>0.0</td>\n",
       "      <td>1.0</td>\n",
       "      <td>1.0</td>\n",
       "    </tr>\n",
       "    <tr>\n",
       "      <th>race/ethnicity_group D</th>\n",
       "      <td>5000.0</td>\n",
       "      <td>0.2620</td>\n",
       "      <td>0.439767</td>\n",
       "      <td>0.0</td>\n",
       "      <td>0.0</td>\n",
       "      <td>0.0</td>\n",
       "      <td>1.0</td>\n",
       "      <td>1.0</td>\n",
       "    </tr>\n",
       "    <tr>\n",
       "      <th>race/ethnicity_group E</th>\n",
       "      <td>5000.0</td>\n",
       "      <td>0.1410</td>\n",
       "      <td>0.348056</td>\n",
       "      <td>0.0</td>\n",
       "      <td>0.0</td>\n",
       "      <td>0.0</td>\n",
       "      <td>0.0</td>\n",
       "      <td>1.0</td>\n",
       "    </tr>\n",
       "    <tr>\n",
       "      <th>parental level of education_associate's degree</th>\n",
       "      <td>5000.0</td>\n",
       "      <td>0.1938</td>\n",
       "      <td>0.395314</td>\n",
       "      <td>0.0</td>\n",
       "      <td>0.0</td>\n",
       "      <td>0.0</td>\n",
       "      <td>0.0</td>\n",
       "      <td>1.0</td>\n",
       "    </tr>\n",
       "    <tr>\n",
       "      <th>parental level of education_bachelor's degree</th>\n",
       "      <td>5000.0</td>\n",
       "      <td>0.1216</td>\n",
       "      <td>0.326856</td>\n",
       "      <td>0.0</td>\n",
       "      <td>0.0</td>\n",
       "      <td>0.0</td>\n",
       "      <td>0.0</td>\n",
       "      <td>1.0</td>\n",
       "    </tr>\n",
       "    <tr>\n",
       "      <th>parental level of education_high school</th>\n",
       "      <td>5000.0</td>\n",
       "      <td>0.1974</td>\n",
       "      <td>0.398077</td>\n",
       "      <td>0.0</td>\n",
       "      <td>0.0</td>\n",
       "      <td>0.0</td>\n",
       "      <td>0.0</td>\n",
       "      <td>1.0</td>\n",
       "    </tr>\n",
       "    <tr>\n",
       "      <th>parental level of education_master's degree</th>\n",
       "      <td>5000.0</td>\n",
       "      <td>0.0722</td>\n",
       "      <td>0.258845</td>\n",
       "      <td>0.0</td>\n",
       "      <td>0.0</td>\n",
       "      <td>0.0</td>\n",
       "      <td>0.0</td>\n",
       "      <td>1.0</td>\n",
       "    </tr>\n",
       "    <tr>\n",
       "      <th>parental level of education_some college</th>\n",
       "      <td>5000.0</td>\n",
       "      <td>0.2292</td>\n",
       "      <td>0.420360</td>\n",
       "      <td>0.0</td>\n",
       "      <td>0.0</td>\n",
       "      <td>0.0</td>\n",
       "      <td>0.0</td>\n",
       "      <td>1.0</td>\n",
       "    </tr>\n",
       "    <tr>\n",
       "      <th>parental level of education_some high school</th>\n",
       "      <td>5000.0</td>\n",
       "      <td>0.1858</td>\n",
       "      <td>0.388984</td>\n",
       "      <td>0.0</td>\n",
       "      <td>0.0</td>\n",
       "      <td>0.0</td>\n",
       "      <td>0.0</td>\n",
       "      <td>1.0</td>\n",
       "    </tr>\n",
       "    <tr>\n",
       "      <th>lunch_free/reduced</th>\n",
       "      <td>5000.0</td>\n",
       "      <td>0.3548</td>\n",
       "      <td>0.478501</td>\n",
       "      <td>0.0</td>\n",
       "      <td>0.0</td>\n",
       "      <td>0.0</td>\n",
       "      <td>1.0</td>\n",
       "      <td>1.0</td>\n",
       "    </tr>\n",
       "    <tr>\n",
       "      <th>lunch_standard</th>\n",
       "      <td>5000.0</td>\n",
       "      <td>0.6452</td>\n",
       "      <td>0.478501</td>\n",
       "      <td>0.0</td>\n",
       "      <td>0.0</td>\n",
       "      <td>1.0</td>\n",
       "      <td>1.0</td>\n",
       "      <td>1.0</td>\n",
       "    </tr>\n",
       "  </tbody>\n",
       "</table>\n",
       "</div>"
      ],
      "text/plain": [
       "                                                 count    mean       std  min  \\\n",
       "test preparation course                         5000.0  0.3422  0.474494  0.0   \n",
       "education                                       5000.0  0.6168  0.486215  0.0   \n",
       "gender_female                                   5000.0  0.5024  0.500044  0.0   \n",
       "gender_male                                     5000.0  0.4976  0.500044  0.0   \n",
       "race/ethnicity_group A                          5000.0  0.0828  0.275607  0.0   \n",
       "race/ethnicity_group B                          5000.0  0.1952  0.396394  0.0   \n",
       "race/ethnicity_group C                          5000.0  0.3190  0.466136  0.0   \n",
       "race/ethnicity_group D                          5000.0  0.2620  0.439767  0.0   \n",
       "race/ethnicity_group E                          5000.0  0.1410  0.348056  0.0   \n",
       "parental level of education_associate's degree  5000.0  0.1938  0.395314  0.0   \n",
       "parental level of education_bachelor's degree   5000.0  0.1216  0.326856  0.0   \n",
       "parental level of education_high school         5000.0  0.1974  0.398077  0.0   \n",
       "parental level of education_master's degree     5000.0  0.0722  0.258845  0.0   \n",
       "parental level of education_some college        5000.0  0.2292  0.420360  0.0   \n",
       "parental level of education_some high school    5000.0  0.1858  0.388984  0.0   \n",
       "lunch_free/reduced                              5000.0  0.3548  0.478501  0.0   \n",
       "lunch_standard                                  5000.0  0.6452  0.478501  0.0   \n",
       "\n",
       "                                                25%  50%  75%  max  \n",
       "test preparation course                         0.0  0.0  1.0  1.0  \n",
       "education                                       0.0  1.0  1.0  1.0  \n",
       "gender_female                                   0.0  1.0  1.0  1.0  \n",
       "gender_male                                     0.0  0.0  1.0  1.0  \n",
       "race/ethnicity_group A                          0.0  0.0  0.0  1.0  \n",
       "race/ethnicity_group B                          0.0  0.0  0.0  1.0  \n",
       "race/ethnicity_group C                          0.0  0.0  1.0  1.0  \n",
       "race/ethnicity_group D                          0.0  0.0  1.0  1.0  \n",
       "race/ethnicity_group E                          0.0  0.0  0.0  1.0  \n",
       "parental level of education_associate's degree  0.0  0.0  0.0  1.0  \n",
       "parental level of education_bachelor's degree   0.0  0.0  0.0  1.0  \n",
       "parental level of education_high school         0.0  0.0  0.0  1.0  \n",
       "parental level of education_master's degree     0.0  0.0  0.0  1.0  \n",
       "parental level of education_some college        0.0  0.0  0.0  1.0  \n",
       "parental level of education_some high school    0.0  0.0  0.0  1.0  \n",
       "lunch_free/reduced                              0.0  0.0  1.0  1.0  \n",
       "lunch_standard                                  0.0  1.0  1.0  1.0  "
      ]
     },
     "execution_count": 9,
     "metadata": {},
     "output_type": "execute_result"
    }
   ],
   "source": [
    "# examine data details\n",
    "X.describe().T"
   ]
  },
  {
   "cell_type": "markdown",
   "metadata": {},
   "source": [
    "# Model"
   ]
  },
  {
   "cell_type": "code",
   "execution_count": 10,
   "metadata": {},
   "outputs": [],
   "source": [
    "#Import Random Forest Model\n",
    "from sklearn.ensemble import RandomForestClassifier\n",
    "\n",
    "#Create a Gaussian Classifier\n",
    "clf=RandomForestClassifier(n_estimators=1000)\n",
    "\n",
    "#Train the model using the training sets y_pred=clf.predict(X_test)\n",
    "clf.fit(X_train,y_train)\n",
    "\n",
    "y_pred=clf.predict(X_test)"
   ]
  },
  {
   "cell_type": "code",
   "execution_count": 11,
   "metadata": {},
   "outputs": [
    {
     "name": "stdout",
     "output_type": "stream",
     "text": [
      "Accuracy: 0.68\n"
     ]
    }
   ],
   "source": [
    "#Import scikit-learn metrics module for accuracy calculation\n",
    "from sklearn import metrics\n",
    "# Model Accuracy, how often is the classifier correct?\n",
    "print(\"Accuracy:\",metrics.accuracy_score(y_test, y_pred))"
   ]
  },
  {
   "cell_type": "code",
   "execution_count": 12,
   "metadata": {},
   "outputs": [
    {
     "data": {
      "text/plain": [
       "test preparation course                           0.201860\n",
       "lunch_standard                                    0.121639\n",
       "lunch_free/reduced                                0.112129\n",
       "race/ethnicity_group E                            0.072663\n",
       "education                                         0.055794\n",
       "parental level of education_master's degree       0.049570\n",
       "race/ethnicity_group B                            0.045468\n",
       "race/ethnicity_group C                            0.040495\n",
       "gender_female                                     0.040484\n",
       "gender_male                                       0.039746\n",
       "race/ethnicity_group D                            0.039542\n",
       "race/ethnicity_group A                            0.038419\n",
       "parental level of education_some college          0.031800\n",
       "parental level of education_some high school      0.031141\n",
       "parental level of education_bachelor's degree     0.030542\n",
       "parental level of education_associate's degree    0.028293\n",
       "parental level of education_high school           0.020416\n",
       "dtype: float64"
      ]
     },
     "execution_count": 12,
     "metadata": {},
     "output_type": "execute_result"
    }
   ],
   "source": [
    "import pandas as pd\n",
    "feature_imp = pd.Series(clf.feature_importances_,index=X.columns).sort_values(ascending=False)\n",
    "feature_imp"
   ]
  },
  {
   "cell_type": "code",
   "execution_count": 13,
   "metadata": {},
   "outputs": [
    {
     "data": {
      "image/png": "[encoded data removed]",
      "text/plain": [
       "<Figure size 432x288 with 1 Axes>"
      ]
     },
     "metadata": {
      "needs_background": "light"
     },
     "output_type": "display_data"
    }
   ],
   "source": [
    "import matplotlib.pyplot as plt\n",
    "import seaborn as sns\n",
    "\n",
    "# Creating a bar plot\n",
    "sns.barplot(x=feature_imp, y=feature_imp.index)\n",
    "# Add labels to your graph\n",
    "plt.xlabel('Feature Importance Score')\n",
    "plt.ylabel('Features')\n",
    "plt.title(\"Visualizing Important Features\")\n",
    "plt.show()"
   ]
  },
  {
   "cell_type": "code",
   "execution_count": 14,
   "metadata": {},
   "outputs": [],
   "source": [
    "from sklearn.model_selection import RandomizedSearchCV\n",
    "from sklearn import datasets\n",
    "from sklearn.ensemble import RandomForestClassifier\n",
    "from scipy.stats import uniform, truncnorm, randint"
   ]
  },
  {
   "cell_type": "code",
   "execution_count": 15,
   "metadata": {},
   "outputs": [],
   "source": [
    "model_params = {\n",
    "    # randomly sample numbers from 4 to 204 estimators\n",
    "    'n_estimators': randint(4,200),\n",
    "    # normally distributed max_features, with mean .25 stddev 0.1, bounded between 0 and 1\n",
    "    'max_features': truncnorm(a=0, b=1, loc=0.25, scale=0.1),\n",
    "    # uniform distribution from 0.01 to 0.2 (0.01 + 0.199)\n",
    "    'min_samples_split': uniform(0.01, 0.199)\n",
    "}"
   ]
  },
  {
   "cell_type": "code",
   "execution_count": 21,
   "metadata": {},
   "outputs": [
    {
     "name": "stdout",
     "output_type": "stream",
     "text": [
      "{'bootstrap': True,\n",
      " 'ccp_alpha': 0.0,\n",
      " 'class_weight': None,\n",
      " 'criterion': 'gini',\n",
      " 'max_depth': None,\n",
      " 'max_features': 0.34177907893939885,\n",
      " 'max_leaf_nodes': None,\n",
      " 'max_samples': None,\n",
      " 'min_impurity_decrease': 0.0,\n",
      " 'min_impurity_split': None,\n",
      " 'min_samples_leaf': 1,\n",
      " 'min_samples_split': 0.053401936513099456,\n",
      " 'min_weight_fraction_leaf': 0.0,\n",
      " 'n_estimators': 61,\n",
      " 'n_jobs': None,\n",
      " 'oob_score': False,\n",
      " 'random_state': None,\n",
      " 'verbose': 0,\n",
      " 'warm_start': False}\n"
     ]
    }
   ],
   "source": [
    "# create random forest classifier model\n",
    "rf_model = RandomForestClassifier()\n",
    "\n",
    "# set up random search meta-estimator\n",
    "# this will train 100 models over 5 folds of cross validation (500 models total)\n",
    "clf = RandomizedSearchCV(rf_model, model_params, n_iter=100, cv=5, random_state=1)\n",
    "\n",
    "# train the random search meta-estimator to find the best model out of 100 candidates\n",
    "model = clf.fit(X_train, y_train)\n",
    "\n",
    "# print winning set of hyperparameters\n",
    "from pprint import pprint\n",
    "pprint(model.best_estimator_.get_params())"
   ]
  },
  {
   "cell_type": "code",
   "execution_count": 22,
   "metadata": {},
   "outputs": [
    {
     "name": "stdout",
     "output_type": "stream",
     "text": [
      "Accuracy: 0.667\n"
     ]
    }
   ],
   "source": [
    "# generate predictions using the best-performing model\n",
    "predictions = model.predict(X_test)\n",
    "print(\"Accuracy:\",metrics.accuracy_score(y_test, predictions))"
   ]
  },
  {
   "cell_type": "code",
   "execution_count": 23,
   "metadata": {},
   "outputs": [
    {
     "data": {
      "text/plain": [
       "array([[390, 144],\n",
       "       [189, 277]])"
      ]
     },
     "execution_count": 23,
     "metadata": {},
     "output_type": "execute_result"
    }
   ],
   "source": [
    "from sklearn.metrics import accuracy_score, confusion_matrix, classification_report\n",
    "# View confusion matrix for test data and predictions\n",
    "confusion_matrix(y_test, predictions)"
   ]
  },
  {
   "cell_type": "code",
   "execution_count": 24,
   "metadata": {},
   "outputs": [
    {
     "data": {
      "image/png": "[encoded data removed]",
      "text/plain": [
       "<Figure size 1152x504 with 2 Axes>"
      ]
     },
     "metadata": {},
     "output_type": "display_data"
    }
   ],
   "source": [
    "# Get and reshape confusion matrix data\n",
    "matrix = confusion_matrix(y_test, predictions)\n",
    "matrix = matrix.astype('float') / matrix.sum(axis=1)[:, np.newaxis]\n",
    "\n",
    "# Build the plot\n",
    "plt.figure(figsize=(16,7))\n",
    "sns.set(font_scale=1.4)\n",
    "sns.heatmap(matrix, annot=True, annot_kws={'size':10},\n",
    "            cmap=plt.cm.Greens, linewidths=0.2)\n",
    "\n",
    "# Add labels to the plot\n",
    "class_names = ['Fail','Pass']\n",
    "tick_marks = np.arange(len(class_names))+0.5\n",
    "tick_marks2 = tick_marks\n",
    "plt.xticks(tick_marks, class_names, rotation=0)\n",
    "plt.yticks(tick_marks2, class_names, rotation=0)\n",
    "plt.xlabel('Predicted label')\n",
    "plt.ylabel('True label')\n",
    "plt.title('Confusion Matrix for Random Forest Model')\n",
    "plt.show()"
   ]
  },
  {
   "cell_type": "code",
   "execution_count": 25,
   "metadata": {},
   "outputs": [
    {
     "name": "stdout",
     "output_type": "stream",
     "text": [
      "              precision    recall  f1-score   support\n",
      "\n",
      "        fail       0.67      0.73      0.70       534\n",
      "        pass       0.66      0.59      0.62       466\n",
      "\n",
      "    accuracy                           0.67      1000\n",
      "   macro avg       0.67      0.66      0.66      1000\n",
      "weighted avg       0.67      0.67      0.67      1000\n",
      "\n"
     ]
    }
   ],
   "source": [
    "# View the classification report for test data and predictions\n",
    "print(classification_report(y_test, predictions))"
   ]
  },
  {
   "cell_type": "code",
   "execution_count": null,
   "metadata": {},
   "outputs": [],
   "source": []
  }
 ],
 "metadata": {
  "kernelspec": {
   "display_name": "Python 3",
   "language": "python",
   "name": "python3"
  },
  "language_info": {
   "codemirror_mode": {
    "name": "ipython",
    "version": 3
   },
   "file_extension": ".py",
   "mimetype": "text/x-python",
   "name": "python",
   "nbconvert_exporter": "python",
   "pygments_lexer": "ipython3",
   "version": "3.8.2"
  }
 },
 "nbformat": 4,
 "nbformat_minor": 4
}
