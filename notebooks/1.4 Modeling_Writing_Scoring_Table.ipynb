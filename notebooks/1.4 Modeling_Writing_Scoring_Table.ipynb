{
 "cells": [
  {
   "cell_type": "markdown",
   "metadata": {},
   "source": [
    "# Student Scores: Modeling Writing Scores"
   ]
  },
  {
   "cell_type": "markdown",
   "metadata": {},
   "source": [
    "# Load Required Python Packages"
   ]
  },
  {
   "cell_type": "code",
   "execution_count": 1,
   "metadata": {},
   "outputs": [
    {
     "name": "stderr",
     "output_type": "stream",
     "text": [
      "/Users/tiffanyflor/.pyenv/versions/3.8.2/lib/python3.8/site-packages/pandas/compat/__init__.py:120: UserWarning: Could not import the lzma module. Your installed Python is incomplete. Attempting to use lzma compression will result in a RuntimeError.\n",
      "  warnings.warn(msg)\n"
     ]
    }
   ],
   "source": [
    "import os\n",
    "import pandas as pd\n",
    "import numpy as np\n",
    "import matplotlib.pyplot as plt\n",
    "import seaborn as sns\n",
    "#Import scikit-learn metrics module for accuracy calculation\n",
    "from sklearn import metrics\n",
    "from sklearn.metrics import accuracy_score, confusion_matrix, classification_report\n",
    "from pprint import pprint\n",
    "\n",
    "%matplotlib inline"
   ]
  },
  {
   "cell_type": "markdown",
   "metadata": {},
   "source": [
    "**Locate and print current working directory and parent directory.**"
   ]
  },
  {
   "cell_type": "code",
   "execution_count": 2,
   "metadata": {},
   "outputs": [
    {
     "name": "stdout",
     "output_type": "stream",
     "text": [
      "/Users/tiffanyflor/Dropbox/MyProjects/Student Scores/notebooks\n",
      "/Users/tiffanyflor/Dropbox/MyProjects/Student Scores\n",
      "/Users/tiffanyflor/Dropbox/MyProjects/Student Scores/figures\n"
     ]
    }
   ],
   "source": [
    "path = os.getcwd()\n",
    "parent = os.path.dirname(path)\n",
    "figures_folder = parent+'/figures'\n",
    "print(path)\n",
    "print(parent)\n",
    "print(figures_folder)"
   ]
  },
  {
   "cell_type": "markdown",
   "metadata": {},
   "source": [
    "**Print contents of data/interim.**"
   ]
  },
  {
   "cell_type": "code",
   "execution_count": 3,
   "metadata": {},
   "outputs": [
    {
     "data": {
      "text/plain": [
       "['total_student_scores_without_dummies.csv',\n",
       " 'cleaned_student_scores.csv',\n",
       " 'student_scores_no_outliers.csv',\n",
       " 'total_student_scores_dummies.csv',\n",
       " '.ipynb_checkpoints']"
      ]
     },
     "execution_count": 3,
     "metadata": {},
     "output_type": "execute_result"
    }
   ],
   "source": [
    "os.listdir(parent+'/data/interim')"
   ]
  },
  {
   "cell_type": "markdown",
   "metadata": {},
   "source": [
    "# Load Data"
   ]
  },
  {
   "cell_type": "code",
   "execution_count": 4,
   "metadata": {},
   "outputs": [],
   "source": [
    "df = pd.read_csv(parent+'/data/interim/total_student_scores_dummies.csv',index_col=0)"
   ]
  },
  {
   "cell_type": "code",
   "execution_count": 5,
   "metadata": {},
   "outputs": [
    {
     "data": {
      "text/html": [
       "<div>\n",
       "<style scoped>\n",
       "    .dataframe tbody tr th:only-of-type {\n",
       "        vertical-align: middle;\n",
       "    }\n",
       "\n",
       "    .dataframe tbody tr th {\n",
       "        vertical-align: top;\n",
       "    }\n",
       "\n",
       "    .dataframe thead th {\n",
       "        text-align: right;\n",
       "    }\n",
       "</style>\n",
       "<table border=\"1\" class=\"dataframe\">\n",
       "  <thead>\n",
       "    <tr style=\"text-align: right;\">\n",
       "      <th></th>\n",
       "      <th>test preparation course</th>\n",
       "      <th>education</th>\n",
       "      <th>gender_male</th>\n",
       "      <th>race/ethnicity_group B</th>\n",
       "      <th>race/ethnicity_group C</th>\n",
       "      <th>race/ethnicity_group D</th>\n",
       "      <th>race/ethnicity_group E</th>\n",
       "      <th>parental level of education_bachelor's degree</th>\n",
       "      <th>parental level of education_high school</th>\n",
       "      <th>parental level of education_master's degree</th>\n",
       "      <th>parental level of education_some college</th>\n",
       "      <th>parental level of education_some high school</th>\n",
       "      <th>lunch_standard</th>\n",
       "      <th>Pass Mean Exam</th>\n",
       "      <th>Pass Math</th>\n",
       "      <th>Pass Reading</th>\n",
       "      <th>Pass Writing</th>\n",
       "    </tr>\n",
       "  </thead>\n",
       "  <tbody>\n",
       "    <tr>\n",
       "      <th>0</th>\n",
       "      <td>0</td>\n",
       "      <td>1</td>\n",
       "      <td>0</td>\n",
       "      <td>1</td>\n",
       "      <td>0</td>\n",
       "      <td>0</td>\n",
       "      <td>0</td>\n",
       "      <td>1</td>\n",
       "      <td>0</td>\n",
       "      <td>0</td>\n",
       "      <td>0</td>\n",
       "      <td>0</td>\n",
       "      <td>1</td>\n",
       "      <td>pass</td>\n",
       "      <td>pass</td>\n",
       "      <td>pass</td>\n",
       "      <td>pass</td>\n",
       "    </tr>\n",
       "    <tr>\n",
       "      <th>1</th>\n",
       "      <td>1</td>\n",
       "      <td>1</td>\n",
       "      <td>0</td>\n",
       "      <td>0</td>\n",
       "      <td>1</td>\n",
       "      <td>0</td>\n",
       "      <td>0</td>\n",
       "      <td>0</td>\n",
       "      <td>0</td>\n",
       "      <td>0</td>\n",
       "      <td>1</td>\n",
       "      <td>0</td>\n",
       "      <td>1</td>\n",
       "      <td>pass</td>\n",
       "      <td>fail</td>\n",
       "      <td>pass</td>\n",
       "      <td>pass</td>\n",
       "    </tr>\n",
       "    <tr>\n",
       "      <th>2</th>\n",
       "      <td>0</td>\n",
       "      <td>1</td>\n",
       "      <td>0</td>\n",
       "      <td>1</td>\n",
       "      <td>0</td>\n",
       "      <td>0</td>\n",
       "      <td>0</td>\n",
       "      <td>0</td>\n",
       "      <td>0</td>\n",
       "      <td>1</td>\n",
       "      <td>0</td>\n",
       "      <td>0</td>\n",
       "      <td>1</td>\n",
       "      <td>pass</td>\n",
       "      <td>pass</td>\n",
       "      <td>pass</td>\n",
       "      <td>pass</td>\n",
       "    </tr>\n",
       "    <tr>\n",
       "      <th>3</th>\n",
       "      <td>0</td>\n",
       "      <td>1</td>\n",
       "      <td>1</td>\n",
       "      <td>0</td>\n",
       "      <td>0</td>\n",
       "      <td>0</td>\n",
       "      <td>0</td>\n",
       "      <td>0</td>\n",
       "      <td>0</td>\n",
       "      <td>0</td>\n",
       "      <td>0</td>\n",
       "      <td>0</td>\n",
       "      <td>0</td>\n",
       "      <td>fail</td>\n",
       "      <td>fail</td>\n",
       "      <td>fail</td>\n",
       "      <td>fail</td>\n",
       "    </tr>\n",
       "    <tr>\n",
       "      <th>4</th>\n",
       "      <td>0</td>\n",
       "      <td>1</td>\n",
       "      <td>1</td>\n",
       "      <td>0</td>\n",
       "      <td>1</td>\n",
       "      <td>0</td>\n",
       "      <td>0</td>\n",
       "      <td>0</td>\n",
       "      <td>0</td>\n",
       "      <td>0</td>\n",
       "      <td>1</td>\n",
       "      <td>0</td>\n",
       "      <td>1</td>\n",
       "      <td>pass</td>\n",
       "      <td>pass</td>\n",
       "      <td>pass</td>\n",
       "      <td>pass</td>\n",
       "    </tr>\n",
       "  </tbody>\n",
       "</table>\n",
       "</div>"
      ],
      "text/plain": [
       "   test preparation course  education  gender_male  race/ethnicity_group B  \\\n",
       "0                        0          1            0                       1   \n",
       "1                        1          1            0                       0   \n",
       "2                        0          1            0                       1   \n",
       "3                        0          1            1                       0   \n",
       "4                        0          1            1                       0   \n",
       "\n",
       "   race/ethnicity_group C  race/ethnicity_group D  race/ethnicity_group E  \\\n",
       "0                       0                       0                       0   \n",
       "1                       1                       0                       0   \n",
       "2                       0                       0                       0   \n",
       "3                       0                       0                       0   \n",
       "4                       1                       0                       0   \n",
       "\n",
       "   parental level of education_bachelor's degree  \\\n",
       "0                                              1   \n",
       "1                                              0   \n",
       "2                                              0   \n",
       "3                                              0   \n",
       "4                                              0   \n",
       "\n",
       "   parental level of education_high school  \\\n",
       "0                                        0   \n",
       "1                                        0   \n",
       "2                                        0   \n",
       "3                                        0   \n",
       "4                                        0   \n",
       "\n",
       "   parental level of education_master's degree  \\\n",
       "0                                            0   \n",
       "1                                            0   \n",
       "2                                            1   \n",
       "3                                            0   \n",
       "4                                            0   \n",
       "\n",
       "   parental level of education_some college  \\\n",
       "0                                         0   \n",
       "1                                         1   \n",
       "2                                         0   \n",
       "3                                         0   \n",
       "4                                         1   \n",
       "\n",
       "   parental level of education_some high school  lunch_standard  \\\n",
       "0                                             0               1   \n",
       "1                                             0               1   \n",
       "2                                             0               1   \n",
       "3                                             0               0   \n",
       "4                                             0               1   \n",
       "\n",
       "  Pass Mean Exam Pass Math Pass Reading Pass Writing  \n",
       "0           pass      pass         pass         pass  \n",
       "1           pass      fail         pass         pass  \n",
       "2           pass      pass         pass         pass  \n",
       "3           fail      fail         fail         fail  \n",
       "4           pass      pass         pass         pass  "
      ]
     },
     "execution_count": 5,
     "metadata": {},
     "output_type": "execute_result"
    }
   ],
   "source": [
    "df.head()"
   ]
  },
  {
   "cell_type": "code",
   "execution_count": 6,
   "metadata": {},
   "outputs": [
    {
     "data": {
      "text/html": [
       "<div>\n",
       "<style scoped>\n",
       "    .dataframe tbody tr th:only-of-type {\n",
       "        vertical-align: middle;\n",
       "    }\n",
       "\n",
       "    .dataframe tbody tr th {\n",
       "        vertical-align: top;\n",
       "    }\n",
       "\n",
       "    .dataframe thead th {\n",
       "        text-align: right;\n",
       "    }\n",
       "</style>\n",
       "<table border=\"1\" class=\"dataframe\">\n",
       "  <thead>\n",
       "    <tr style=\"text-align: right;\">\n",
       "      <th></th>\n",
       "      <th>test preparation course</th>\n",
       "      <th>education</th>\n",
       "      <th>gender_male</th>\n",
       "      <th>race/ethnicity_group B</th>\n",
       "      <th>race/ethnicity_group C</th>\n",
       "      <th>race/ethnicity_group D</th>\n",
       "      <th>race/ethnicity_group E</th>\n",
       "      <th>parental level of education_bachelor's degree</th>\n",
       "      <th>parental level of education_high school</th>\n",
       "      <th>parental level of education_master's degree</th>\n",
       "      <th>parental level of education_some college</th>\n",
       "      <th>parental level of education_some high school</th>\n",
       "      <th>lunch_standard</th>\n",
       "      <th>Pass Mean Exam</th>\n",
       "      <th>Pass Math</th>\n",
       "      <th>Pass Reading</th>\n",
       "      <th>Pass Writing</th>\n",
       "    </tr>\n",
       "  </thead>\n",
       "  <tbody>\n",
       "    <tr>\n",
       "      <th>9945</th>\n",
       "      <td>1</td>\n",
       "      <td>1</td>\n",
       "      <td>0</td>\n",
       "      <td>0</td>\n",
       "      <td>0</td>\n",
       "      <td>0</td>\n",
       "      <td>1</td>\n",
       "      <td>0</td>\n",
       "      <td>0</td>\n",
       "      <td>0</td>\n",
       "      <td>1</td>\n",
       "      <td>0</td>\n",
       "      <td>1</td>\n",
       "      <td>pass</td>\n",
       "      <td>pass</td>\n",
       "      <td>pass</td>\n",
       "      <td>pass</td>\n",
       "    </tr>\n",
       "    <tr>\n",
       "      <th>9946</th>\n",
       "      <td>0</td>\n",
       "      <td>1</td>\n",
       "      <td>0</td>\n",
       "      <td>0</td>\n",
       "      <td>0</td>\n",
       "      <td>1</td>\n",
       "      <td>0</td>\n",
       "      <td>0</td>\n",
       "      <td>0</td>\n",
       "      <td>0</td>\n",
       "      <td>1</td>\n",
       "      <td>0</td>\n",
       "      <td>0</td>\n",
       "      <td>fail</td>\n",
       "      <td>fail</td>\n",
       "      <td>fail</td>\n",
       "      <td>fail</td>\n",
       "    </tr>\n",
       "    <tr>\n",
       "      <th>9947</th>\n",
       "      <td>1</td>\n",
       "      <td>1</td>\n",
       "      <td>1</td>\n",
       "      <td>0</td>\n",
       "      <td>0</td>\n",
       "      <td>0</td>\n",
       "      <td>0</td>\n",
       "      <td>0</td>\n",
       "      <td>0</td>\n",
       "      <td>0</td>\n",
       "      <td>0</td>\n",
       "      <td>0</td>\n",
       "      <td>0</td>\n",
       "      <td>pass</td>\n",
       "      <td>pass</td>\n",
       "      <td>pass</td>\n",
       "      <td>pass</td>\n",
       "    </tr>\n",
       "    <tr>\n",
       "      <th>9948</th>\n",
       "      <td>1</td>\n",
       "      <td>1</td>\n",
       "      <td>0</td>\n",
       "      <td>0</td>\n",
       "      <td>0</td>\n",
       "      <td>1</td>\n",
       "      <td>0</td>\n",
       "      <td>0</td>\n",
       "      <td>0</td>\n",
       "      <td>0</td>\n",
       "      <td>0</td>\n",
       "      <td>0</td>\n",
       "      <td>0</td>\n",
       "      <td>fail</td>\n",
       "      <td>fail</td>\n",
       "      <td>fail</td>\n",
       "      <td>pass</td>\n",
       "    </tr>\n",
       "    <tr>\n",
       "      <th>9949</th>\n",
       "      <td>1</td>\n",
       "      <td>1</td>\n",
       "      <td>0</td>\n",
       "      <td>0</td>\n",
       "      <td>0</td>\n",
       "      <td>1</td>\n",
       "      <td>0</td>\n",
       "      <td>1</td>\n",
       "      <td>0</td>\n",
       "      <td>0</td>\n",
       "      <td>0</td>\n",
       "      <td>0</td>\n",
       "      <td>1</td>\n",
       "      <td>pass</td>\n",
       "      <td>pass</td>\n",
       "      <td>pass</td>\n",
       "      <td>pass</td>\n",
       "    </tr>\n",
       "  </tbody>\n",
       "</table>\n",
       "</div>"
      ],
      "text/plain": [
       "      test preparation course  education  gender_male  race/ethnicity_group B  \\\n",
       "9945                        1          1            0                       0   \n",
       "9946                        0          1            0                       0   \n",
       "9947                        1          1            1                       0   \n",
       "9948                        1          1            0                       0   \n",
       "9949                        1          1            0                       0   \n",
       "\n",
       "      race/ethnicity_group C  race/ethnicity_group D  race/ethnicity_group E  \\\n",
       "9945                       0                       0                       1   \n",
       "9946                       0                       1                       0   \n",
       "9947                       0                       0                       0   \n",
       "9948                       0                       1                       0   \n",
       "9949                       0                       1                       0   \n",
       "\n",
       "      parental level of education_bachelor's degree  \\\n",
       "9945                                              0   \n",
       "9946                                              0   \n",
       "9947                                              0   \n",
       "9948                                              0   \n",
       "9949                                              1   \n",
       "\n",
       "      parental level of education_high school  \\\n",
       "9945                                        0   \n",
       "9946                                        0   \n",
       "9947                                        0   \n",
       "9948                                        0   \n",
       "9949                                        0   \n",
       "\n",
       "      parental level of education_master's degree  \\\n",
       "9945                                            0   \n",
       "9946                                            0   \n",
       "9947                                            0   \n",
       "9948                                            0   \n",
       "9949                                            0   \n",
       "\n",
       "      parental level of education_some college  \\\n",
       "9945                                         1   \n",
       "9946                                         1   \n",
       "9947                                         0   \n",
       "9948                                         0   \n",
       "9949                                         0   \n",
       "\n",
       "      parental level of education_some high school  lunch_standard  \\\n",
       "9945                                             0               1   \n",
       "9946                                             0               0   \n",
       "9947                                             0               0   \n",
       "9948                                             0               0   \n",
       "9949                                             0               1   \n",
       "\n",
       "     Pass Mean Exam Pass Math Pass Reading Pass Writing  \n",
       "9945           pass      pass         pass         pass  \n",
       "9946           fail      fail         fail         fail  \n",
       "9947           pass      pass         pass         pass  \n",
       "9948           fail      fail         fail         pass  \n",
       "9949           pass      pass         pass         pass  "
      ]
     },
     "execution_count": 6,
     "metadata": {},
     "output_type": "execute_result"
    }
   ],
   "source": [
    "df.tail()"
   ]
  },
  {
   "cell_type": "code",
   "execution_count": 7,
   "metadata": {},
   "outputs": [
    {
     "data": {
      "text/plain": [
       "(9950, 17)"
      ]
     },
     "execution_count": 7,
     "metadata": {},
     "output_type": "execute_result"
    }
   ],
   "source": [
    "df.shape"
   ]
  },
  {
   "cell_type": "code",
   "execution_count": 8,
   "metadata": {},
   "outputs": [
    {
     "name": "stdout",
     "output_type": "stream",
     "text": [
      "<class 'pandas.core.frame.DataFrame'>\n",
      "Int64Index: 9950 entries, 0 to 9949\n",
      "Data columns (total 17 columns):\n",
      " #   Column                                         Non-Null Count  Dtype \n",
      "---  ------                                         --------------  ----- \n",
      " 0   test preparation course                        9950 non-null   int64 \n",
      " 1   education                                      9950 non-null   int64 \n",
      " 2   gender_male                                    9950 non-null   int64 \n",
      " 3   race/ethnicity_group B                         9950 non-null   int64 \n",
      " 4   race/ethnicity_group C                         9950 non-null   int64 \n",
      " 5   race/ethnicity_group D                         9950 non-null   int64 \n",
      " 6   race/ethnicity_group E                         9950 non-null   int64 \n",
      " 7   parental level of education_bachelor's degree  9950 non-null   int64 \n",
      " 8   parental level of education_high school        9950 non-null   int64 \n",
      " 9   parental level of education_master's degree    9950 non-null   int64 \n",
      " 10  parental level of education_some college       9950 non-null   int64 \n",
      " 11  parental level of education_some high school   9950 non-null   int64 \n",
      " 12  lunch_standard                                 9950 non-null   int64 \n",
      " 13  Pass Mean Exam                                 9950 non-null   object\n",
      " 14  Pass Math                                      9950 non-null   object\n",
      " 15  Pass Reading                                   9950 non-null   object\n",
      " 16  Pass Writing                                   9950 non-null   object\n",
      "dtypes: int64(13), object(4)\n",
      "memory usage: 1.4+ MB\n"
     ]
    }
   ],
   "source": [
    "df.info()"
   ]
  },
  {
   "cell_type": "code",
   "execution_count": 9,
   "metadata": {},
   "outputs": [
    {
     "data": {
      "text/plain": [
       "Index(['test preparation course', 'education', 'gender_male',\n",
       "       'race/ethnicity_group B', 'race/ethnicity_group C',\n",
       "       'race/ethnicity_group D', 'race/ethnicity_group E',\n",
       "       'parental level of education_bachelor's degree',\n",
       "       'parental level of education_high school',\n",
       "       'parental level of education_master's degree',\n",
       "       'parental level of education_some college',\n",
       "       'parental level of education_some high school', 'lunch_standard',\n",
       "       'Pass Mean Exam', 'Pass Math', 'Pass Reading', 'Pass Writing'],\n",
       "      dtype='object')"
      ]
     },
     "execution_count": 9,
     "metadata": {},
     "output_type": "execute_result"
    }
   ],
   "source": [
    "df.columns"
   ]
  },
  {
   "cell_type": "code",
   "execution_count": 10,
   "metadata": {},
   "outputs": [
    {
     "data": {
      "text/plain": [
       "fail    5259\n",
       "pass    4691\n",
       "Name: Pass Mean Exam, dtype: int64"
      ]
     },
     "execution_count": 10,
     "metadata": {},
     "output_type": "execute_result"
    }
   ],
   "source": [
    "df['Pass Mean Exam'].value_counts()"
   ]
  },
  {
   "cell_type": "code",
   "execution_count": 11,
   "metadata": {},
   "outputs": [
    {
     "data": {
      "text/plain": [
       "fail    5618\n",
       "pass    4332\n",
       "Name: Pass Math, dtype: int64"
      ]
     },
     "execution_count": 11,
     "metadata": {},
     "output_type": "execute_result"
    }
   ],
   "source": [
    "df['Pass Math'].value_counts()"
   ]
  },
  {
   "cell_type": "code",
   "execution_count": 12,
   "metadata": {},
   "outputs": [
    {
     "data": {
      "text/plain": [
       "pass    5054\n",
       "fail    4896\n",
       "Name: Pass Reading, dtype: int64"
      ]
     },
     "execution_count": 12,
     "metadata": {},
     "output_type": "execute_result"
    }
   ],
   "source": [
    "df['Pass Reading'].value_counts()"
   ]
  },
  {
   "cell_type": "code",
   "execution_count": 13,
   "metadata": {},
   "outputs": [
    {
     "data": {
      "text/plain": [
       "fail    5178\n",
       "pass    4772\n",
       "Name: Pass Writing, dtype: int64"
      ]
     },
     "execution_count": 13,
     "metadata": {},
     "output_type": "execute_result"
    }
   ],
   "source": [
    "df['Pass Writing'].value_counts()"
   ]
  },
  {
   "cell_type": "markdown",
   "metadata": {},
   "source": [
    "Notice that the split between students who fail and those who pass is roughly equal between each group. There is no major skew.\n",
    "\n",
    "When looking at models we know that anywhere between 43% to 56% can be achieved by predicting all passing or all failing. Therefore, we are interested in finding a model that has a much higher rating than the dummy model."
   ]
  },
  {
   "cell_type": "markdown",
   "metadata": {},
   "source": [
    "## Label Encoder\n",
    "Performing manually to ensure proper encoding for the question:\n",
    "Does this student need to be recommended the prep course?\n",
    "1 (Yes) == fail\n",
    "0 (No) == pass"
   ]
  },
  {
   "cell_type": "code",
   "execution_count": 14,
   "metadata": {},
   "outputs": [],
   "source": [
    "df['Recommend Prep Course'] = [1 if x== 'fail' else 0 for x in df['Pass Writing']]"
   ]
  },
  {
   "cell_type": "code",
   "execution_count": 15,
   "metadata": {},
   "outputs": [
    {
     "data": {
      "text/plain": [
       "0    0\n",
       "1    0\n",
       "2    0\n",
       "3    1\n",
       "4    0\n",
       "Name: Recommend Prep Course, dtype: int64"
      ]
     },
     "execution_count": 15,
     "metadata": {},
     "output_type": "execute_result"
    }
   ],
   "source": [
    "df['Recommend Prep Course'].head()"
   ]
  },
  {
   "cell_type": "markdown",
   "metadata": {},
   "source": [
    "# Writing Exam Prediction: Split into Train and Test Data"
   ]
  },
  {
   "cell_type": "code",
   "execution_count": 16,
   "metadata": {},
   "outputs": [],
   "source": [
    "from sklearn.model_selection import train_test_split\n",
    "X = df.drop(['Pass Mean Exam','Pass Math','Pass Reading','Pass Writing','Recommend Prep Course'], axis=1)\n",
    "\n",
    "# Split up various predicted variables\n",
    "y_recommend = df['Recommend Prep Course']\n",
    "\n",
    "X_train, X_test, y_train, y_test = train_test_split(X,y_recommend,test_size=0.2,random_state=42)"
   ]
  },
  {
   "cell_type": "code",
   "execution_count": 17,
   "metadata": {},
   "outputs": [
    {
     "data": {
      "text/html": [
       "<div>\n",
       "<style scoped>\n",
       "    .dataframe tbody tr th:only-of-type {\n",
       "        vertical-align: middle;\n",
       "    }\n",
       "\n",
       "    .dataframe tbody tr th {\n",
       "        vertical-align: top;\n",
       "    }\n",
       "\n",
       "    .dataframe thead th {\n",
       "        text-align: right;\n",
       "    }\n",
       "</style>\n",
       "<table border=\"1\" class=\"dataframe\">\n",
       "  <thead>\n",
       "    <tr style=\"text-align: right;\">\n",
       "      <th></th>\n",
       "      <th>count</th>\n",
       "      <th>mean</th>\n",
       "      <th>std</th>\n",
       "      <th>min</th>\n",
       "      <th>25%</th>\n",
       "      <th>50%</th>\n",
       "      <th>75%</th>\n",
       "      <th>max</th>\n",
       "    </tr>\n",
       "  </thead>\n",
       "  <tbody>\n",
       "    <tr>\n",
       "      <th>test preparation course</th>\n",
       "      <td>9950.0</td>\n",
       "      <td>0.342010</td>\n",
       "      <td>0.474407</td>\n",
       "      <td>0.0</td>\n",
       "      <td>0.0</td>\n",
       "      <td>0.0</td>\n",
       "      <td>1.0</td>\n",
       "      <td>1.0</td>\n",
       "    </tr>\n",
       "    <tr>\n",
       "      <th>education</th>\n",
       "      <td>9950.0</td>\n",
       "      <td>0.617387</td>\n",
       "      <td>0.486049</td>\n",
       "      <td>0.0</td>\n",
       "      <td>0.0</td>\n",
       "      <td>1.0</td>\n",
       "      <td>1.0</td>\n",
       "      <td>1.0</td>\n",
       "    </tr>\n",
       "    <tr>\n",
       "      <th>gender_male</th>\n",
       "      <td>9950.0</td>\n",
       "      <td>0.504623</td>\n",
       "      <td>0.500004</td>\n",
       "      <td>0.0</td>\n",
       "      <td>0.0</td>\n",
       "      <td>1.0</td>\n",
       "      <td>1.0</td>\n",
       "      <td>1.0</td>\n",
       "    </tr>\n",
       "    <tr>\n",
       "      <th>race/ethnicity_group B</th>\n",
       "      <td>9950.0</td>\n",
       "      <td>0.199799</td>\n",
       "      <td>0.399869</td>\n",
       "      <td>0.0</td>\n",
       "      <td>0.0</td>\n",
       "      <td>0.0</td>\n",
       "      <td>0.0</td>\n",
       "      <td>1.0</td>\n",
       "    </tr>\n",
       "    <tr>\n",
       "      <th>race/ethnicity_group C</th>\n",
       "      <td>9950.0</td>\n",
       "      <td>0.314774</td>\n",
       "      <td>0.464449</td>\n",
       "      <td>0.0</td>\n",
       "      <td>0.0</td>\n",
       "      <td>0.0</td>\n",
       "      <td>1.0</td>\n",
       "      <td>1.0</td>\n",
       "    </tr>\n",
       "    <tr>\n",
       "      <th>race/ethnicity_group D</th>\n",
       "      <td>9950.0</td>\n",
       "      <td>0.262915</td>\n",
       "      <td>0.440239</td>\n",
       "      <td>0.0</td>\n",
       "      <td>0.0</td>\n",
       "      <td>0.0</td>\n",
       "      <td>1.0</td>\n",
       "      <td>1.0</td>\n",
       "    </tr>\n",
       "    <tr>\n",
       "      <th>race/ethnicity_group E</th>\n",
       "      <td>9950.0</td>\n",
       "      <td>0.139598</td>\n",
       "      <td>0.346587</td>\n",
       "      <td>0.0</td>\n",
       "      <td>0.0</td>\n",
       "      <td>0.0</td>\n",
       "      <td>0.0</td>\n",
       "      <td>1.0</td>\n",
       "    </tr>\n",
       "    <tr>\n",
       "      <th>parental level of education_bachelor's degree</th>\n",
       "      <td>9950.0</td>\n",
       "      <td>0.117588</td>\n",
       "      <td>0.322136</td>\n",
       "      <td>0.0</td>\n",
       "      <td>0.0</td>\n",
       "      <td>0.0</td>\n",
       "      <td>0.0</td>\n",
       "      <td>1.0</td>\n",
       "    </tr>\n",
       "    <tr>\n",
       "      <th>parental level of education_high school</th>\n",
       "      <td>9950.0</td>\n",
       "      <td>0.196281</td>\n",
       "      <td>0.397204</td>\n",
       "      <td>0.0</td>\n",
       "      <td>0.0</td>\n",
       "      <td>0.0</td>\n",
       "      <td>0.0</td>\n",
       "      <td>1.0</td>\n",
       "    </tr>\n",
       "    <tr>\n",
       "      <th>parental level of education_master's degree</th>\n",
       "      <td>9950.0</td>\n",
       "      <td>0.071759</td>\n",
       "      <td>0.258101</td>\n",
       "      <td>0.0</td>\n",
       "      <td>0.0</td>\n",
       "      <td>0.0</td>\n",
       "      <td>0.0</td>\n",
       "      <td>1.0</td>\n",
       "    </tr>\n",
       "    <tr>\n",
       "      <th>parental level of education_some college</th>\n",
       "      <td>9950.0</td>\n",
       "      <td>0.233367</td>\n",
       "      <td>0.422995</td>\n",
       "      <td>0.0</td>\n",
       "      <td>0.0</td>\n",
       "      <td>0.0</td>\n",
       "      <td>0.0</td>\n",
       "      <td>1.0</td>\n",
       "    </tr>\n",
       "    <tr>\n",
       "      <th>parental level of education_some high school</th>\n",
       "      <td>9950.0</td>\n",
       "      <td>0.186332</td>\n",
       "      <td>0.389394</td>\n",
       "      <td>0.0</td>\n",
       "      <td>0.0</td>\n",
       "      <td>0.0</td>\n",
       "      <td>0.0</td>\n",
       "      <td>1.0</td>\n",
       "    </tr>\n",
       "    <tr>\n",
       "      <th>lunch_standard</th>\n",
       "      <td>9950.0</td>\n",
       "      <td>0.648241</td>\n",
       "      <td>0.477543</td>\n",
       "      <td>0.0</td>\n",
       "      <td>0.0</td>\n",
       "      <td>1.0</td>\n",
       "      <td>1.0</td>\n",
       "      <td>1.0</td>\n",
       "    </tr>\n",
       "  </tbody>\n",
       "</table>\n",
       "</div>"
      ],
      "text/plain": [
       "                                                count      mean       std  \\\n",
       "test preparation course                        9950.0  0.342010  0.474407   \n",
       "education                                      9950.0  0.617387  0.486049   \n",
       "gender_male                                    9950.0  0.504623  0.500004   \n",
       "race/ethnicity_group B                         9950.0  0.199799  0.399869   \n",
       "race/ethnicity_group C                         9950.0  0.314774  0.464449   \n",
       "race/ethnicity_group D                         9950.0  0.262915  0.440239   \n",
       "race/ethnicity_group E                         9950.0  0.139598  0.346587   \n",
       "parental level of education_bachelor's degree  9950.0  0.117588  0.322136   \n",
       "parental level of education_high school        9950.0  0.196281  0.397204   \n",
       "parental level of education_master's degree    9950.0  0.071759  0.258101   \n",
       "parental level of education_some college       9950.0  0.233367  0.422995   \n",
       "parental level of education_some high school   9950.0  0.186332  0.389394   \n",
       "lunch_standard                                 9950.0  0.648241  0.477543   \n",
       "\n",
       "                                               min  25%  50%  75%  max  \n",
       "test preparation course                        0.0  0.0  0.0  1.0  1.0  \n",
       "education                                      0.0  0.0  1.0  1.0  1.0  \n",
       "gender_male                                    0.0  0.0  1.0  1.0  1.0  \n",
       "race/ethnicity_group B                         0.0  0.0  0.0  0.0  1.0  \n",
       "race/ethnicity_group C                         0.0  0.0  0.0  1.0  1.0  \n",
       "race/ethnicity_group D                         0.0  0.0  0.0  1.0  1.0  \n",
       "race/ethnicity_group E                         0.0  0.0  0.0  0.0  1.0  \n",
       "parental level of education_bachelor's degree  0.0  0.0  0.0  0.0  1.0  \n",
       "parental level of education_high school        0.0  0.0  0.0  0.0  1.0  \n",
       "parental level of education_master's degree    0.0  0.0  0.0  0.0  1.0  \n",
       "parental level of education_some college       0.0  0.0  0.0  0.0  1.0  \n",
       "parental level of education_some high school   0.0  0.0  0.0  0.0  1.0  \n",
       "lunch_standard                                 0.0  0.0  1.0  1.0  1.0  "
      ]
     },
     "execution_count": 17,
     "metadata": {},
     "output_type": "execute_result"
    }
   ],
   "source": [
    "# examine data details\n",
    "X.describe().T"
   ]
  },
  {
   "cell_type": "markdown",
   "metadata": {},
   "source": [
    "# Models Building & Performance Evaluation\n",
    "Thank you to [Roberto Salazar](https://towardsdatascience.com/machine-learning-classifiers-comparison-with-python-33149aecdbca) for sharing code to streamline this process and present all performance metrics in one dataframe."
   ]
  },
  {
   "cell_type": "code",
   "execution_count": 18,
   "metadata": {},
   "outputs": [],
   "source": [
    "# Import required libraries for performance metrics\n",
    "from sklearn.metrics import make_scorer\n",
    "from sklearn.metrics import accuracy_score\n",
    "from sklearn.metrics import precision_score\n",
    "from sklearn.metrics import recall_score\n",
    "from sklearn.metrics import f1_score\n",
    "from sklearn.model_selection import cross_validate\n",
    "\n",
    "# Define dictionary with performance metrics\n",
    "scoring = {'accuracy':make_scorer(accuracy_score),\n",
    "          'precision':make_scorer(precision_score),\n",
    "          'recall':make_scorer(recall_score),\n",
    "          'f1_score':make_scorer(f1_score)}"
   ]
  },
  {
   "cell_type": "code",
   "execution_count": 19,
   "metadata": {},
   "outputs": [],
   "source": [
    "# Import required libraries for machine learning classifiers\n",
    "from sklearn.linear_model import LogisticRegression\n",
    "from sklearn.svm import LinearSVC\n",
    "from sklearn.tree import DecisionTreeClassifier\n",
    "from sklearn.ensemble import RandomForestClassifier\n",
    "from sklearn.naive_bayes import GaussianNB\n",
    "from sklearn.neighbors import KNeighborsClassifier"
   ]
  },
  {
   "cell_type": "markdown",
   "metadata": {},
   "source": [
    "### K-Nearest Neighbors: Determine K"
   ]
  },
  {
   "cell_type": "code",
   "execution_count": 20,
   "metadata": {},
   "outputs": [],
   "source": [
    "# Using error rate, evaluate best k\n",
    "\n",
    "error_rate = []\n",
    "\n",
    "# range between 1 and sqrt(rows)\n",
    "for i in range(1,100):\n",
    "    knn = KNeighborsClassifier(n_neighbors=i)\n",
    "    knn.fit(X_train, y_train)\n",
    "    pred_i = knn.predict(X_test)\n",
    "    error_rate.append(np.mean(pred_i != y_test))"
   ]
  },
  {
   "cell_type": "code",
   "execution_count": 21,
   "metadata": {},
   "outputs": [
    {
     "data": {
      "text/plain": [
       "Text(0, 0.5, 'Error Rate')"
      ]
     },
     "execution_count": 21,
     "metadata": {},
     "output_type": "execute_result"
    },
    {
     "data": {
      "image/png": "[encoded data removed]",
      "text/plain": [
       "<Figure size 720x432 with 1 Axes>"
      ]
     },
     "metadata": {
      "needs_background": "light"
     },
     "output_type": "display_data"
    }
   ],
   "source": [
    "plt.figure(figsize=(10,6))\n",
    "plt.plot(range(1,100),error_rate,color='blue',linestyle='dashed',\n",
    "         marker='o',markerfacecolor='red',markersize=10)\n",
    "plt.title('Error Rate vs K Value')\n",
    "plt.xlabel('K')\n",
    "plt.ylabel('Error Rate')"
   ]
  },
  {
   "cell_type": "code",
   "execution_count": 22,
   "metadata": {},
   "outputs": [
    {
     "name": "stdout",
     "output_type": "stream",
     "text": [
      "Minimum error rate is 0.28241206030150756 at k=67\n"
     ]
    }
   ],
   "source": [
    "min_level = min(error_rate)\n",
    "\n",
    "min_k = 0\n",
    "for i in range(0,len(error_rate)):\n",
    "    if error_rate[i] == min_level:\n",
    "        min_k = i+1 #plus 1 due to knn starting at 1 and not 0 like a list\n",
    "\n",
    "print('Minimum error rate is {} at k={}'.format(min_level,min_k))"
   ]
  },
  {
   "cell_type": "markdown",
   "metadata": {},
   "source": [
    "## Modeling with Base Models"
   ]
  },
  {
   "cell_type": "code",
   "execution_count": 23,
   "metadata": {},
   "outputs": [],
   "source": [
    "# Instantiate machine learning classifiers\n",
    "log_model = LogisticRegression(max_iter=10000)\n",
    "svc_model = LinearSVC(dual=False) # n_samples > n_features so set to dual=False\n",
    "dtr_model = DecisionTreeClassifier()\n",
    "rfc_model = RandomForestClassifier()\n",
    "gnb_model = GaussianNB()\n",
    "knn_model = KNeighborsClassifier(n_neighbors=min_k) # using k with min error"
   ]
  },
  {
   "cell_type": "code",
   "execution_count": 24,
   "metadata": {},
   "outputs": [],
   "source": [
    "# Define models evaluation function\n",
    "def models_evaluation(X, y, folds):\n",
    "    # Perform cross-validation for each machine learning classifier\n",
    "    log = cross_validate(log_model, X, y, cv=folds, scoring=scoring)\n",
    "    svc = cross_validate(svc_model, X, y, cv=folds, scoring=scoring)\n",
    "    dtr = cross_validate(dtr_model, X, y, cv=folds, scoring=scoring)\n",
    "    rfc = cross_validate(rfc_model, X, y, cv=folds, scoring=scoring)\n",
    "    gnb = cross_validate(gnb_model, X, y, cv=folds, scoring=scoring)\n",
    "    knn = cross_validate(knn_model, X, y, cv=folds, scoring=scoring)\n",
    "    \n",
    "    # Create dataframe with models performance metrics scores\n",
    "    models_scores_table = pd.DataFrame({'Logistic Regression':[log['test_accuracy'].mean(),\n",
    "                                                              log['test_precision'].mean(),\n",
    "                                                              log['test_recall'].mean(),\n",
    "                                                              log['test_f1_score'].mean()],\n",
    "                                       \n",
    "                                       'Support Vector Classifier':[svc['test_accuracy'].mean(),\n",
    "                                                              svc['test_precision'].mean(),\n",
    "                                                              svc['test_recall'].mean(),\n",
    "                                                              svc['test_f1_score'].mean()],\n",
    "                                        \n",
    "                                        'Decision Tree':[dtr['test_accuracy'].mean(),\n",
    "                                                              dtr['test_precision'].mean(),\n",
    "                                                              dtr['test_recall'].mean(),\n",
    "                                                              dtr['test_f1_score'].mean()],\n",
    "                                        \n",
    "                                        'Random Forest':[rfc['test_accuracy'].mean(),\n",
    "                                                              rfc['test_precision'].mean(),\n",
    "                                                              rfc['test_recall'].mean(),\n",
    "                                                              rfc['test_f1_score'].mean()],\n",
    "                                        \n",
    "                                        'Gaussian Naive Bayes':[gnb['test_accuracy'].mean(),\n",
    "                                                              gnb['test_precision'].mean(),\n",
    "                                                              gnb['test_recall'].mean(),\n",
    "                                                              gnb['test_f1_score'].mean()],\n",
    "                                        \n",
    "                                        'K-Nearest Neighbors':[knn['test_accuracy'].mean(),\n",
    "                                                              knn['test_precision'].mean(),\n",
    "                                                              knn['test_recall'].mean(),\n",
    "                                                              knn['test_f1_score'].mean()]},\n",
    "                                       \n",
    "                                       \n",
    "                                       index=['Accuracy','Precision','Recall','F1 Score']\n",
    "                                       )\n",
    "    \n",
    "    # Add 'Best Score' column\n",
    "    models_scores_table['Best Score'] = models_scores_table.idxmax(axis=1)\n",
    "    \n",
    "    # Return models performance metrics scores dataframe\n",
    "    return(models_scores_table)"
   ]
  },
  {
   "cell_type": "markdown",
   "metadata": {},
   "source": [
    "## Final Scoring Outcome"
   ]
  },
  {
   "cell_type": "code",
   "execution_count": 25,
   "metadata": {},
   "outputs": [
    {
     "data": {
      "text/html": [
       "<div>\n",
       "<style scoped>\n",
       "    .dataframe tbody tr th:only-of-type {\n",
       "        vertical-align: middle;\n",
       "    }\n",
       "\n",
       "    .dataframe tbody tr th {\n",
       "        vertical-align: top;\n",
       "    }\n",
       "\n",
       "    .dataframe thead th {\n",
       "        text-align: right;\n",
       "    }\n",
       "</style>\n",
       "<table border=\"1\" class=\"dataframe\">\n",
       "  <thead>\n",
       "    <tr style=\"text-align: right;\">\n",
       "      <th></th>\n",
       "      <th>Logistic Regression</th>\n",
       "      <th>Support Vector Classifier</th>\n",
       "      <th>Decision Tree</th>\n",
       "      <th>Random Forest</th>\n",
       "      <th>Gaussian Naive Bayes</th>\n",
       "      <th>K-Nearest Neighbors</th>\n",
       "      <th>Best Score</th>\n",
       "    </tr>\n",
       "  </thead>\n",
       "  <tbody>\n",
       "    <tr>\n",
       "      <th>Accuracy</th>\n",
       "      <td>0.700377</td>\n",
       "      <td>0.701633</td>\n",
       "      <td>0.691960</td>\n",
       "      <td>0.693342</td>\n",
       "      <td>0.653266</td>\n",
       "      <td>0.692462</td>\n",
       "      <td>Support Vector Classifier</td>\n",
       "    </tr>\n",
       "    <tr>\n",
       "      <th>Precision</th>\n",
       "      <td>0.703516</td>\n",
       "      <td>0.705099</td>\n",
       "      <td>0.700777</td>\n",
       "      <td>0.698677</td>\n",
       "      <td>0.647773</td>\n",
       "      <td>0.701475</td>\n",
       "      <td>Support Vector Classifier</td>\n",
       "    </tr>\n",
       "    <tr>\n",
       "      <th>Recall</th>\n",
       "      <td>0.731051</td>\n",
       "      <td>0.731294</td>\n",
       "      <td>0.709990</td>\n",
       "      <td>0.719914</td>\n",
       "      <td>0.727418</td>\n",
       "      <td>0.710958</td>\n",
       "      <td>Support Vector Classifier</td>\n",
       "    </tr>\n",
       "    <tr>\n",
       "      <th>F1 Score</th>\n",
       "      <td>0.716701</td>\n",
       "      <td>0.717650</td>\n",
       "      <td>0.705164</td>\n",
       "      <td>0.708951</td>\n",
       "      <td>0.685064</td>\n",
       "      <td>0.705649</td>\n",
       "      <td>Support Vector Classifier</td>\n",
       "    </tr>\n",
       "  </tbody>\n",
       "</table>\n",
       "</div>"
      ],
      "text/plain": [
       "           Logistic Regression  Support Vector Classifier  Decision Tree  \\\n",
       "Accuracy              0.700377                   0.701633       0.691960   \n",
       "Precision             0.703516                   0.705099       0.700777   \n",
       "Recall                0.731051                   0.731294       0.709990   \n",
       "F1 Score              0.716701                   0.717650       0.705164   \n",
       "\n",
       "           Random Forest  Gaussian Naive Bayes  K-Nearest Neighbors  \\\n",
       "Accuracy        0.693342              0.653266             0.692462   \n",
       "Precision       0.698677              0.647773             0.701475   \n",
       "Recall          0.719914              0.727418             0.710958   \n",
       "F1 Score        0.708951              0.685064             0.705649   \n",
       "\n",
       "                          Best Score  \n",
       "Accuracy   Support Vector Classifier  \n",
       "Precision  Support Vector Classifier  \n",
       "Recall     Support Vector Classifier  \n",
       "F1 Score   Support Vector Classifier  "
      ]
     },
     "execution_count": 25,
     "metadata": {},
     "output_type": "execute_result"
    }
   ],
   "source": [
    "# Use X_train and y_train to avoid knowledge leaking\n",
    "models_evaluation(X_train, y_train, 10)"
   ]
  },
  {
   "cell_type": "markdown",
   "metadata": {},
   "source": [
    "**Our original problem: Identify students who might fail the exam to provide optional additional support via an exam preparation course.**\n",
    "\n",
    "According to our problem, we are most interested in detecting students who are at risk of failing the exam. This means the **recall** -- calculation for how many actual \"fails\" our model captures by labeling it \"fail\" -- is the metric we are most interested in."
   ]
  },
  {
   "cell_type": "markdown",
   "metadata": {},
   "source": [
    "Examining Recall, we see that in this particular training set and cross validation split up the following models produced the best results:\n",
    "- Support Vector Classifier\n",
    "- Logistic Regression\n",
    "\n",
    "Using these models, we'll fit, predict, and examine the confusion matrix when using the test set prior to hyperparameter tuning in order to have scores to compare."
   ]
  },
  {
   "cell_type": "markdown",
   "metadata": {},
   "source": [
    "# Base Model Testing"
   ]
  },
  {
   "cell_type": "markdown",
   "metadata": {},
   "source": [
    "### Support Vector Classifier"
   ]
  },
  {
   "cell_type": "code",
   "execution_count": 26,
   "metadata": {},
   "outputs": [
    {
     "data": {
      "text/plain": [
       "<bound method BaseEstimator.get_params of LinearSVC(dual=False)>"
      ]
     },
     "execution_count": 26,
     "metadata": {},
     "output_type": "execute_result"
    }
   ],
   "source": [
    "svc_model = LinearSVC(dual=False)\n",
    "svc_model.get_params"
   ]
  },
  {
   "cell_type": "code",
   "execution_count": 27,
   "metadata": {},
   "outputs": [
    {
     "data": {
      "text/plain": [
       "array([1, 1, 0, ..., 1, 1, 1])"
      ]
     },
     "execution_count": 27,
     "metadata": {},
     "output_type": "execute_result"
    }
   ],
   "source": [
    "svc_model.fit(X_train,y_train)\n",
    "y_pred_svc = svc_model.predict(X_test)\n",
    "y_pred_svc"
   ]
  },
  {
   "cell_type": "code",
   "execution_count": 28,
   "metadata": {},
   "outputs": [
    {
     "data": {
      "image/png": "[encoded data removed]",
      "text/plain": [
       "<Figure size 1152x504 with 2 Axes>"
      ]
     },
     "metadata": {
      "needs_background": "light"
     },
     "output_type": "display_data"
    },
    {
     "name": "stdout",
     "output_type": "stream",
     "text": [
      "Fail refers to a failing score on the exam and who should receive a recommendation to take the exam preparation course.\n"
     ]
    }
   ],
   "source": [
    "# Get and reshape confusion matrix data\n",
    "matrix = confusion_matrix(y_test, y_pred_svc)\n",
    "matrix = matrix.astype('float') / matrix.sum(axis=1)[:, np.newaxis]\n",
    "\n",
    "# Build the plot\n",
    "plt.figure(figsize=(16,7))\n",
    "sns.set(font_scale=1.4)\n",
    "sns.heatmap(matrix, annot=True, annot_kws={'size':10},\n",
    "            cmap=plt.cm.Greens, linewidths=0.2)\n",
    "\n",
    "# Add labels to the plot\n",
    "class_names = ['Pass','Fail']\n",
    "tick_marks = np.arange(len(class_names))+0.5\n",
    "tick_marks2 = tick_marks\n",
    "plt.xticks(tick_marks, class_names, rotation=0)\n",
    "plt.yticks(tick_marks2, class_names, rotation=0)\n",
    "plt.xlabel('Predicted label')\n",
    "plt.ylabel('True label')\n",
    "plt.title('Confusion Matrix for Support Vector Classifier', size=24)\n",
    "plt.show()\n",
    "print('Fail refers to a failing score on the exam and who should receive a recommendation to take the exam preparation course.')"
   ]
  },
  {
   "cell_type": "code",
   "execution_count": 29,
   "metadata": {},
   "outputs": [
    {
     "name": "stdout",
     "output_type": "stream",
     "text": [
      "              precision    recall  f1-score   support\n",
      "\n",
      "           0       0.70      0.70      0.70       943\n",
      "           1       0.73      0.73      0.73      1047\n",
      "\n",
      "    accuracy                           0.72      1990\n",
      "   macro avg       0.72      0.72      0.72      1990\n",
      "weighted avg       0.72      0.72      0.72      1990\n",
      "\n"
     ]
    }
   ],
   "source": [
    "# View the classification report for test data and predictions\n",
    "print(classification_report(y_test, y_pred_svc))"
   ]
  },
  {
   "cell_type": "markdown",
   "metadata": {},
   "source": [
    "### Logistic Regression"
   ]
  },
  {
   "cell_type": "code",
   "execution_count": 30,
   "metadata": {},
   "outputs": [
    {
     "data": {
      "text/plain": [
       "array([1, 1, 0, ..., 1, 1, 1])"
      ]
     },
     "execution_count": 30,
     "metadata": {},
     "output_type": "execute_result"
    }
   ],
   "source": [
    "log_model = LogisticRegression(max_iter=10000)\n",
    "log_model.fit(X_train,y_train)\n",
    "y_pred_log = log_model.predict(X_test)\n",
    "y_pred_log"
   ]
  },
  {
   "cell_type": "code",
   "execution_count": 31,
   "metadata": {},
   "outputs": [
    {
     "data": {
      "image/png": "[encoded data removed]",
      "text/plain": [
       "<Figure size 1152x504 with 2 Axes>"
      ]
     },
     "metadata": {},
     "output_type": "display_data"
    },
    {
     "name": "stdout",
     "output_type": "stream",
     "text": [
      "Fail refers to a failing score on the exam and who should receive a recommendation to take the exam preparation course.\n"
     ]
    }
   ],
   "source": [
    "# Get and reshape confusion matrix data\n",
    "matrix = confusion_matrix(y_test, y_pred_log)\n",
    "matrix = matrix.astype('float') / matrix.sum(axis=1)[:, np.newaxis]\n",
    "\n",
    "# Build the plot\n",
    "plt.figure(figsize=(16,7))\n",
    "sns.set(font_scale=1.4)\n",
    "sns.heatmap(matrix, annot=True, annot_kws={'size':10},\n",
    "            cmap=plt.cm.Greens, linewidths=0.2)\n",
    "\n",
    "# Add labels to the plot\n",
    "class_names = ['Pass','Fail']\n",
    "tick_marks = np.arange(len(class_names))+0.5\n",
    "tick_marks2 = tick_marks\n",
    "plt.xticks(tick_marks, class_names, rotation=0)\n",
    "plt.yticks(tick_marks2, class_names, rotation=0)\n",
    "plt.xlabel('Predicted label')\n",
    "plt.ylabel('True label')\n",
    "plt.title('Confusion Matrix for Logistic Regression', size=24)\n",
    "plt.show()\n",
    "print('Fail refers to a failing score on the exam and who should receive a recommendation to take the exam preparation course.')"
   ]
  },
  {
   "cell_type": "code",
   "execution_count": 32,
   "metadata": {},
   "outputs": [
    {
     "name": "stdout",
     "output_type": "stream",
     "text": [
      "              precision    recall  f1-score   support\n",
      "\n",
      "           0       0.70      0.70      0.70       943\n",
      "           1       0.73      0.73      0.73      1047\n",
      "\n",
      "    accuracy                           0.72      1990\n",
      "   macro avg       0.72      0.72      0.72      1990\n",
      "weighted avg       0.72      0.72      0.72      1990\n",
      "\n"
     ]
    }
   ],
   "source": [
    "# View the classification report for test data and predictions\n",
    "print(classification_report(y_test, y_pred_log))"
   ]
  },
  {
   "cell_type": "markdown",
   "metadata": {},
   "source": [
    "# RandomizedSearchCV\n",
    "Scoring will be based on Recall to ensure the most students who are likely to fail are identified."
   ]
  },
  {
   "cell_type": "code",
   "execution_count": 33,
   "metadata": {},
   "outputs": [],
   "source": [
    "from sklearn.model_selection import RandomizedSearchCV\n",
    "from sklearn import svm, datasets\n",
    "from sklearn.svm import SVC"
   ]
  },
  {
   "cell_type": "markdown",
   "metadata": {},
   "source": [
    "### Support Vector Classifier"
   ]
  },
  {
   "cell_type": "code",
   "execution_count": 34,
   "metadata": {},
   "outputs": [
    {
     "name": "stdout",
     "output_type": "stream",
     "text": [
      "Fitting 10 folds for each of 10 candidates, totalling 100 fits\n"
     ]
    },
    {
     "name": "stderr",
     "output_type": "stream",
     "text": [
      "[Parallel(n_jobs=-1)]: Using backend LokyBackend with 4 concurrent workers.\n",
      "[Parallel(n_jobs=-1)]: Done  24 tasks      | elapsed:    2.1s\n"
     ]
    },
    {
     "name": "stdout",
     "output_type": "stream",
     "text": [
      "{'C': 1.0,\n",
      " 'class_weight': None,\n",
      " 'dual': False,\n",
      " 'fit_intercept': True,\n",
      " 'intercept_scaling': 1,\n",
      " 'loss': 'squared_hinge',\n",
      " 'max_iter': 10000,\n",
      " 'multi_class': 'ovr',\n",
      " 'penalty': 'l2',\n",
      " 'random_state': None,\n",
      " 'tol': 1,\n",
      " 'verbose': 0}\n"
     ]
    },
    {
     "name": "stderr",
     "output_type": "stream",
     "text": [
      "[Parallel(n_jobs=-1)]: Done 100 out of 100 | elapsed:    2.5s finished\n"
     ]
    }
   ],
   "source": [
    "params = {'C':[10, 1.0, 0.1, 0.01, 0.001],\n",
    "          'max_iter':[1000, 10000],\n",
    "          'tol':[0.0001, 0.001, 0.01, 1],\n",
    "          'class_weight':['balanced',None],\n",
    "          'loss':['squared_hinge','hinge']}\n",
    "\n",
    "svc_tuned = LinearSVC(dual=False)\n",
    "\n",
    "svc_cv = RandomizedSearchCV(svc_tuned, param_distributions=params, scoring='recall',\n",
    "                        random_state=42, cv=10, verbose=3, n_jobs=-1)\n",
    "model = svc_cv.fit(X_train, y_train)\n",
    "best_params_svc = model.best_estimator_.get_params()\n",
    "pprint(best_params_svc)\n"
   ]
  },
  {
   "cell_type": "code",
   "execution_count": 35,
   "metadata": {},
   "outputs": [
    {
     "name": "stdout",
     "output_type": "stream",
     "text": [
      "0.714070351758794\n",
      "              precision    recall  f1-score   support\n",
      "\n",
      "           0       0.70      0.69      0.70       943\n",
      "           1       0.73      0.74      0.73      1047\n",
      "\n",
      "    accuracy                           0.71      1990\n",
      "   macro avg       0.71      0.71      0.71      1990\n",
      "weighted avg       0.71      0.71      0.71      1990\n",
      "\n"
     ]
    }
   ],
   "source": [
    "svc_tuned = LinearSVC().set_params(**best_params_svc) \n",
    "\n",
    "svc_tuned.fit(X_train,y_train)\n",
    "y_pred_svcTuned = svc_tuned.predict(X_test)\n",
    "print(accuracy_score(y_test, y_pred_svcTuned))\n",
    "print(classification_report(y_test, y_pred_svcTuned))"
   ]
  },
  {
   "cell_type": "code",
   "execution_count": 36,
   "metadata": {},
   "outputs": [
    {
     "data": {
      "image/png": "[encoded data removed]",
      "text/plain": [
       "<Figure size 1152x504 with 2 Axes>"
      ]
     },
     "metadata": {},
     "output_type": "display_data"
    },
    {
     "name": "stdout",
     "output_type": "stream",
     "text": [
      "Fail refers to a failing score on the exam and who should receive a recommendation to take the exam preparation course.\n"
     ]
    }
   ],
   "source": [
    "# Get and reshape confusion matrix data\n",
    "matrix = confusion_matrix(y_test, y_pred_svcTuned)\n",
    "matrix = matrix.astype('float') / matrix.sum(axis=1)[:, np.newaxis]\n",
    "\n",
    "# Build the plot\n",
    "plt.figure(figsize=(16,7))\n",
    "sns.set(font_scale=1.4)\n",
    "sns.heatmap(matrix, annot=True, annot_kws={'size':10},\n",
    "            cmap=plt.cm.Greens, linewidths=0.2)\n",
    "\n",
    "# Add labels to the plot\n",
    "class_names = ['Pass','Fail']\n",
    "tick_marks = np.arange(len(class_names))+0.5\n",
    "tick_marks2 = tick_marks\n",
    "plt.xticks(tick_marks, class_names, rotation=0)\n",
    "plt.yticks(tick_marks2, class_names, rotation=0)\n",
    "plt.xlabel('Predicted label')\n",
    "plt.ylabel('True label')\n",
    "plt.title('Confusion Matrix for Hypertuned LinearSVC', size=24)\n",
    "\n",
    "plt.show()\n",
    "print('Fail refers to a failing score on the exam and who should receive a recommendation to take the exam preparation course.')"
   ]
  },
  {
   "cell_type": "markdown",
   "metadata": {},
   "source": [
    "### Logistic Regression"
   ]
  },
  {
   "cell_type": "code",
   "execution_count": 37,
   "metadata": {},
   "outputs": [
    {
     "name": "stdout",
     "output_type": "stream",
     "text": [
      "Fitting 5 folds for each of 10 candidates, totalling 50 fits\n"
     ]
    },
    {
     "name": "stderr",
     "output_type": "stream",
     "text": [
      "[Parallel(n_jobs=-1)]: Using backend LokyBackend with 4 concurrent workers.\n"
     ]
    },
    {
     "name": "stdout",
     "output_type": "stream",
     "text": [
      "{'C': 0.1,\n",
      " 'class_weight': None,\n",
      " 'dual': False,\n",
      " 'fit_intercept': True,\n",
      " 'intercept_scaling': 1,\n",
      " 'l1_ratio': None,\n",
      " 'max_iter': 10000,\n",
      " 'multi_class': 'auto',\n",
      " 'n_jobs': None,\n",
      " 'penalty': 'l2',\n",
      " 'random_state': None,\n",
      " 'solver': 'newton-cg',\n",
      " 'tol': 0.0001,\n",
      " 'verbose': 0,\n",
      " 'warm_start': False}\n"
     ]
    },
    {
     "name": "stderr",
     "output_type": "stream",
     "text": [
      "[Parallel(n_jobs=-1)]: Done  50 out of  50 | elapsed:    0.9s finished\n"
     ]
    }
   ],
   "source": [
    "params = {'solver':['newton-cg','lbfgs','liblinear','sag','saga'],\n",
    "        'penalty':['none','l1','l2','elasticnet'],\n",
    "        'C':[100,10,1,0.1,0.01]}\n",
    "\n",
    "log_tuned = LogisticRegression(max_iter=10000, dual=False)\n",
    "\n",
    "log_cv = RandomizedSearchCV(log_tuned, param_distributions=params, scoring='recall',\n",
    "                        random_state=42, cv=5, verbose=3, n_jobs=-1)\n",
    "model = log_cv.fit(X_train, y_train)\n",
    "\n",
    "best_params_log = model.best_estimator_.get_params()\n",
    "pprint(best_params_log)\n"
   ]
  },
  {
   "cell_type": "code",
   "execution_count": 38,
   "metadata": {},
   "outputs": [
    {
     "name": "stdout",
     "output_type": "stream",
     "text": [
      "              precision    recall  f1-score   support\n",
      "\n",
      "           0       0.70      0.69      0.70       943\n",
      "           1       0.73      0.73      0.73      1047\n",
      "\n",
      "    accuracy                           0.71      1990\n",
      "   macro avg       0.71      0.71      0.71      1990\n",
      "weighted avg       0.71      0.71      0.71      1990\n",
      "\n"
     ]
    }
   ],
   "source": [
    "log_tuned = LogisticRegression().set_params(**best_params_log)    \n",
    "\n",
    "log_tuned.fit(X_train,y_train)\n",
    "y_pred_logTuned = log_tuned.predict(X_test)\n",
    "accuracy_score(y_test, y_pred_logTuned)\n",
    "print(classification_report(y_test, y_pred_logTuned))"
   ]
  },
  {
   "cell_type": "code",
   "execution_count": 39,
   "metadata": {},
   "outputs": [
    {
     "data": {
      "image/png": "[encoded data removed]",
      "text/plain": [
       "<Figure size 1152x504 with 2 Axes>"
      ]
     },
     "metadata": {},
     "output_type": "display_data"
    },
    {
     "name": "stdout",
     "output_type": "stream",
     "text": [
      "Fail refers to a failing score on the exam and who should receive a recommendation to take the exam preparation course.\n"
     ]
    }
   ],
   "source": [
    "# Get and reshape confusion matrix data\n",
    "matrix = confusion_matrix(y_test, y_pred_logTuned)\n",
    "matrix = matrix.astype('float') / matrix.sum(axis=1)[:, np.newaxis]\n",
    "\n",
    "# Build the plot\n",
    "plt.figure(figsize=(16,7))\n",
    "sns.set(font_scale=1.4)\n",
    "sns.heatmap(matrix, annot=True, annot_kws={'size':10},\n",
    "            cmap=plt.cm.Greens, linewidths=0.2)\n",
    "\n",
    "# Add labels to the plot\n",
    "class_names = ['Pass','Fail']\n",
    "tick_marks = np.arange(len(class_names))+0.5\n",
    "tick_marks2 = tick_marks\n",
    "plt.xticks(tick_marks, class_names, rotation=0)\n",
    "plt.yticks(tick_marks2, class_names, rotation=0)\n",
    "plt.xlabel('Predicted label')\n",
    "plt.ylabel('True label')\n",
    "plt.title('Confusion Matrix for Hypertuned Logistic Regression', size=24)\n",
    "plt.show()\n",
    "print('Fail refers to a failing score on the exam and who should receive a recommendation to take the exam preparation course.')"
   ]
  },
  {
   "cell_type": "markdown",
   "metadata": {},
   "source": [
    "# Best Model for Recall -- Hypertuned LinearSVC"
   ]
  },
  {
   "cell_type": "code",
   "execution_count": 40,
   "metadata": {},
   "outputs": [
    {
     "name": "stdout",
     "output_type": "stream",
     "text": [
      "Fitting 10 folds for each of 10 candidates, totalling 100 fits\n"
     ]
    },
    {
     "name": "stderr",
     "output_type": "stream",
     "text": [
      "[Parallel(n_jobs=-1)]: Using backend LokyBackend with 4 concurrent workers.\n",
      "[Parallel(n_jobs=-1)]: Done  56 tasks      | elapsed:    0.4s\n"
     ]
    },
    {
     "name": "stdout",
     "output_type": "stream",
     "text": [
      "{'C': 1.0,\n",
      " 'class_weight': None,\n",
      " 'dual': False,\n",
      " 'fit_intercept': True,\n",
      " 'intercept_scaling': 1,\n",
      " 'loss': 'squared_hinge',\n",
      " 'max_iter': 10000,\n",
      " 'multi_class': 'ovr',\n",
      " 'penalty': 'l2',\n",
      " 'random_state': None,\n",
      " 'tol': 1,\n",
      " 'verbose': 0}\n"
     ]
    },
    {
     "name": "stderr",
     "output_type": "stream",
     "text": [
      "[Parallel(n_jobs=-1)]: Done 100 out of 100 | elapsed:    0.6s finished\n"
     ]
    }
   ],
   "source": [
    "params = {'C':[10, 1.0, 0.1, 0.01, 0.001],\n",
    "          'max_iter':[1000, 10000],\n",
    "          'tol':[0.0001, 0.001, 0.01, 1],\n",
    "          'class_weight':['balanced',None],\n",
    "          'loss':['squared_hinge','hinge']}\n",
    "\n",
    "svc_tuned = LinearSVC(dual=False)\n",
    "\n",
    "svc_cv = RandomizedSearchCV(svc_tuned, param_distributions=params, scoring='recall',\n",
    "                        random_state=42, cv=10, verbose=3, n_jobs=-1)\n",
    "model = svc_cv.fit(X_train, y_train)\n",
    "best_params_svc = model.best_estimator_.get_params()\n",
    "pprint(best_params_svc)\n"
   ]
  },
  {
   "cell_type": "code",
   "execution_count": 41,
   "metadata": {},
   "outputs": [
    {
     "name": "stdout",
     "output_type": "stream",
     "text": [
      "0.714070351758794\n",
      "\n",
      "              precision    recall  f1-score   support\n",
      "\n",
      "           0       0.70      0.69      0.70       943\n",
      "           1       0.73      0.74      0.73      1047\n",
      "\n",
      "    accuracy                           0.71      1990\n",
      "   macro avg       0.71      0.71      0.71      1990\n",
      "weighted avg       0.71      0.71      0.71      1990\n",
      "\n"
     ]
    }
   ],
   "source": [
    "svc_tuned = LinearSVC().set_params(**best_params_svc) \n",
    "\n",
    "svc_tuned.fit(X_train,y_train)\n",
    "y_pred_svcTuned = svc_tuned.predict(X_test)\n",
    "print(accuracy_score(y_test, y_pred_svcTuned))\n",
    "print()\n",
    "print(classification_report(y_test, y_pred_svcTuned))"
   ]
  },
  {
   "cell_type": "code",
   "execution_count": 42,
   "metadata": {},
   "outputs": [
    {
     "data": {
      "image/png": "[encoded data removed]",
      "text/plain": [
       "<Figure size 1152x504 with 2 Axes>"
      ]
     },
     "metadata": {},
     "output_type": "display_data"
    },
    {
     "name": "stdout",
     "output_type": "stream",
     "text": [
      "Fail refers to a failing score on the exam and who should receive a recommendation to take the exam preparation course.\n"
     ]
    }
   ],
   "source": [
    "# Get and reshape confusion matrix data\n",
    "matrix = confusion_matrix(y_test, y_pred_svcTuned)\n",
    "matrix = matrix.astype('float') / matrix.sum(axis=1)[:, np.newaxis]\n",
    "\n",
    "# Build the plot\n",
    "plt.figure(figsize=(16,7))\n",
    "sns.set(font_scale=1.4)\n",
    "sns.heatmap(matrix, annot=True, annot_kws={'size':10},\n",
    "            cmap=plt.cm.Greens, linewidths=0.2)\n",
    "\n",
    "# Add labels to the plot\n",
    "class_names = ['Pass','Fail']\n",
    "tick_marks = np.arange(len(class_names))+0.5\n",
    "tick_marks2 = tick_marks\n",
    "plt.xticks(tick_marks, class_names, rotation=0)\n",
    "plt.yticks(tick_marks2, class_names, rotation=0)\n",
    "plt.xlabel('Predicted label')\n",
    "plt.ylabel('True label')\n",
    "plt.title('Confusion Matrix for Hypertuned LinearSVC', size=24)\n",
    "\n",
    "plt.savefig(figures_folder+'/MODEL_hyptertuned_linearsvc.png')\n",
    "\n",
    "plt.show()\n",
    "print('Fail refers to a failing score on the exam and who should receive a recommendation to take the exam preparation course.')"
   ]
  },
  {
   "cell_type": "code",
   "execution_count": 43,
   "metadata": {},
   "outputs": [],
   "source": [
    "coef_table = pd.DataFrame({\"Feature Importance\":list(X_train.columns)}).copy()\n",
    "coef_table.insert(len(coef_table.columns),\"Coefs\",np.round(abs(svc_tuned.coef_.transpose()),2))\n",
    "coef_table.set_index('Feature Importance',inplace=True)\n"
   ]
  },
  {
   "cell_type": "code",
   "execution_count": 44,
   "metadata": {},
   "outputs": [
    {
     "data": {
      "text/html": [
       "<div>\n",
       "<style scoped>\n",
       "    .dataframe tbody tr th:only-of-type {\n",
       "        vertical-align: middle;\n",
       "    }\n",
       "\n",
       "    .dataframe tbody tr th {\n",
       "        vertical-align: top;\n",
       "    }\n",
       "\n",
       "    .dataframe thead th {\n",
       "        text-align: right;\n",
       "    }\n",
       "</style>\n",
       "<table border=\"1\" class=\"dataframe\">\n",
       "  <thead>\n",
       "    <tr style=\"text-align: right;\">\n",
       "      <th></th>\n",
       "      <th>Coefs</th>\n",
       "    </tr>\n",
       "    <tr>\n",
       "      <th>Feature Importance</th>\n",
       "      <th></th>\n",
       "    </tr>\n",
       "  </thead>\n",
       "  <tbody>\n",
       "    <tr>\n",
       "      <th>test preparation course</th>\n",
       "      <td>0.50</td>\n",
       "    </tr>\n",
       "    <tr>\n",
       "      <th>gender_male</th>\n",
       "      <td>0.46</td>\n",
       "    </tr>\n",
       "    <tr>\n",
       "      <th>lunch_standard</th>\n",
       "      <td>0.46</td>\n",
       "    </tr>\n",
       "    <tr>\n",
       "      <th>parental level of education_some high school</th>\n",
       "      <td>0.25</td>\n",
       "    </tr>\n",
       "    <tr>\n",
       "      <th>parental level of education_master's degree</th>\n",
       "      <td>0.22</td>\n",
       "    </tr>\n",
       "    <tr>\n",
       "      <th>race/ethnicity_group E</th>\n",
       "      <td>0.20</td>\n",
       "    </tr>\n",
       "    <tr>\n",
       "      <th>race/ethnicity_group B</th>\n",
       "      <td>0.19</td>\n",
       "    </tr>\n",
       "    <tr>\n",
       "      <th>race/ethnicity_group C</th>\n",
       "      <td>0.13</td>\n",
       "    </tr>\n",
       "    <tr>\n",
       "      <th>parental level of education_bachelor's degree</th>\n",
       "      <td>0.13</td>\n",
       "    </tr>\n",
       "    <tr>\n",
       "      <th>education</th>\n",
       "      <td>0.12</td>\n",
       "    </tr>\n",
       "    <tr>\n",
       "      <th>parental level of education_high school</th>\n",
       "      <td>0.12</td>\n",
       "    </tr>\n",
       "    <tr>\n",
       "      <th>parental level of education_some college</th>\n",
       "      <td>0.10</td>\n",
       "    </tr>\n",
       "    <tr>\n",
       "      <th>race/ethnicity_group D</th>\n",
       "      <td>0.08</td>\n",
       "    </tr>\n",
       "  </tbody>\n",
       "</table>\n",
       "</div>"
      ],
      "text/plain": [
       "                                               Coefs\n",
       "Feature Importance                                  \n",
       "test preparation course                         0.50\n",
       "gender_male                                     0.46\n",
       "lunch_standard                                  0.46\n",
       "parental level of education_some high school    0.25\n",
       "parental level of education_master's degree     0.22\n",
       "race/ethnicity_group E                          0.20\n",
       "race/ethnicity_group B                          0.19\n",
       "race/ethnicity_group C                          0.13\n",
       "parental level of education_bachelor's degree   0.13\n",
       "education                                       0.12\n",
       "parental level of education_high school         0.12\n",
       "parental level of education_some college        0.10\n",
       "race/ethnicity_group D                          0.08"
      ]
     },
     "execution_count": 44,
     "metadata": {},
     "output_type": "execute_result"
    }
   ],
   "source": [
    "coef_table = coef_table.sort_values('Coefs',ascending=False)\n",
    "coef_table"
   ]
  },
  {
   "cell_type": "code",
   "execution_count": 45,
   "metadata": {},
   "outputs": [
    {
     "data": {
      "image/png": "[encoded data removed]",
      "text/plain": [
       "<Figure size 432x288 with 1 Axes>"
      ]
     },
     "metadata": {},
     "output_type": "display_data"
    }
   ],
   "source": [
    "# Creating a bar plot\n",
    "sns.barplot(x=coef_table['Coefs'], y=coef_table.index)\n",
    "# Add labels to your graph\n",
    "plt.xlabel('Feature Importance (Coefficient)')\n",
    "plt.ylabel('Features')\n",
    "plt.title(\"Visualizing Important Features\")\n",
    "\n",
    "plt.savefig(figures_folder+'/MODEL_feature_importance_linearsvc.png')\n",
    "\n",
    "plt.show()"
   ]
  },
  {
   "cell_type": "code",
   "execution_count": null,
   "metadata": {},
   "outputs": [],
   "source": []
  }
 ],
 "metadata": {
  "kernelspec": {
   "display_name": "Python 3",
   "language": "python",
   "name": "python3"
  },
  "language_info": {
   "codemirror_mode": {
    "name": "ipython",
    "version": 3
   },
   "file_extension": ".py",
   "mimetype": "text/x-python",
   "name": "python",
   "nbconvert_exporter": "python",
   "pygments_lexer": "ipython3",
   "version": "3.8.2"
  }
 },
 "nbformat": 4,
 "nbformat_minor": 4
}
