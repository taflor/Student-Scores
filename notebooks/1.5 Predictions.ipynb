{
 "cells": [
  {
   "cell_type": "markdown",
   "metadata": {},
   "source": [
    "# Student Scores: Predicting Writing Scores"
   ]
  },
  {
   "cell_type": "markdown",
   "metadata": {},
   "source": [
    "# Load Required Python Packages"
   ]
  },
  {
   "cell_type": "code",
   "execution_count": 1,
   "metadata": {},
   "outputs": [
    {
     "name": "stderr",
     "output_type": "stream",
     "text": [
      "/Users/tiffanyflor/.pyenv/versions/3.8.2/lib/python3.8/site-packages/pandas/compat/__init__.py:120: UserWarning: Could not import the lzma module. Your installed Python is incomplete. Attempting to use lzma compression will result in a RuntimeError.\n",
      "  warnings.warn(msg)\n"
     ]
    }
   ],
   "source": [
    "import os\n",
    "import pandas as pd\n",
    "import numpy as np\n",
    "import matplotlib.pyplot as plt\n",
    "import seaborn as sns\n",
    "#Import scikit-learn metrics module for accuracy calculation\n",
    "from sklearn import metrics\n",
    "from sklearn.metrics import accuracy_score, confusion_matrix, classification_report\n",
    "from pprint import pprint\n",
    "\n",
    "%matplotlib inline"
   ]
  },
  {
   "cell_type": "markdown",
   "metadata": {},
   "source": [
    "**Locate and print current working directory.**"
   ]
  },
  {
   "cell_type": "code",
   "execution_count": 2,
   "metadata": {},
   "outputs": [
    {
     "name": "stdout",
     "output_type": "stream",
     "text": [
      "/Users/tiffanyflor/Dropbox/MyProjects/Student Scores/notebooks\n",
      "/Users/tiffanyflor/Dropbox/MyProjects/Student Scores\n",
      "/Users/tiffanyflor/Dropbox/MyProjects/Student Scores/figures\n"
     ]
    }
   ],
   "source": [
    "path = os.getcwd()\n",
    "parent = os.path.dirname(path)\n",
    "figures_folder = parent+'/figures'\n",
    "print(path)\n",
    "print(parent)\n",
    "print(figures_folder)"
   ]
  },
  {
   "cell_type": "markdown",
   "metadata": {},
   "source": [
    "**Print contents of data/interim.**"
   ]
  },
  {
   "cell_type": "code",
   "execution_count": 3,
   "metadata": {},
   "outputs": [
    {
     "data": {
      "text/plain": [
       "['total_student_scores_without_dummies.csv',\n",
       " 'cleaned_student_scores.csv',\n",
       " 'student_scores_no_outliers.csv',\n",
       " 'total_student_scores_dummies.csv',\n",
       " 'prediction_dataframe.csv',\n",
       " '.ipynb_checkpoints']"
      ]
     },
     "execution_count": 3,
     "metadata": {},
     "output_type": "execute_result"
    }
   ],
   "source": [
    "os.listdir(parent+'/data/interim')"
   ]
  },
  {
   "cell_type": "code",
   "execution_count": 4,
   "metadata": {},
   "outputs": [],
   "source": [
    "df = pd.read_csv(parent+'/data/interim/prediction_dataframe.csv',index_col=0)"
   ]
  },
  {
   "cell_type": "code",
   "execution_count": 5,
   "metadata": {},
   "outputs": [
    {
     "data": {
      "text/html": [
       "<div>\n",
       "<style scoped>\n",
       "    .dataframe tbody tr th:only-of-type {\n",
       "        vertical-align: middle;\n",
       "    }\n",
       "\n",
       "    .dataframe tbody tr th {\n",
       "        vertical-align: top;\n",
       "    }\n",
       "\n",
       "    .dataframe thead th {\n",
       "        text-align: right;\n",
       "    }\n",
       "</style>\n",
       "<table border=\"1\" class=\"dataframe\">\n",
       "  <thead>\n",
       "    <tr style=\"text-align: right;\">\n",
       "      <th></th>\n",
       "      <th>education</th>\n",
       "      <th>gender_male</th>\n",
       "      <th>lunch_standard</th>\n",
       "      <th>writing score</th>\n",
       "      <th>Completed Prep Course</th>\n",
       "      <th>Recommend Prep Course</th>\n",
       "      <th>Prediction</th>\n",
       "    </tr>\n",
       "  </thead>\n",
       "  <tbody>\n",
       "    <tr>\n",
       "      <th>0</th>\n",
       "      <td>1</td>\n",
       "      <td>0</td>\n",
       "      <td>0</td>\n",
       "      <td>62</td>\n",
       "      <td>0</td>\n",
       "      <td>1</td>\n",
       "      <td>1</td>\n",
       "    </tr>\n",
       "    <tr>\n",
       "      <th>1</th>\n",
       "      <td>1</td>\n",
       "      <td>1</td>\n",
       "      <td>1</td>\n",
       "      <td>74</td>\n",
       "      <td>0</td>\n",
       "      <td>0</td>\n",
       "      <td>1</td>\n",
       "    </tr>\n",
       "    <tr>\n",
       "      <th>2</th>\n",
       "      <td>1</td>\n",
       "      <td>1</td>\n",
       "      <td>1</td>\n",
       "      <td>75</td>\n",
       "      <td>1</td>\n",
       "      <td>0</td>\n",
       "      <td>0</td>\n",
       "    </tr>\n",
       "    <tr>\n",
       "      <th>3</th>\n",
       "      <td>0</td>\n",
       "      <td>1</td>\n",
       "      <td>0</td>\n",
       "      <td>46</td>\n",
       "      <td>1</td>\n",
       "      <td>1</td>\n",
       "      <td>1</td>\n",
       "    </tr>\n",
       "    <tr>\n",
       "      <th>4</th>\n",
       "      <td>0</td>\n",
       "      <td>0</td>\n",
       "      <td>1</td>\n",
       "      <td>60</td>\n",
       "      <td>0</td>\n",
       "      <td>1</td>\n",
       "      <td>0</td>\n",
       "    </tr>\n",
       "  </tbody>\n",
       "</table>\n",
       "</div>"
      ],
      "text/plain": [
       "   education  gender_male  lunch_standard  writing score  \\\n",
       "0          1            0               0             62   \n",
       "1          1            1               1             74   \n",
       "2          1            1               1             75   \n",
       "3          0            1               0             46   \n",
       "4          0            0               1             60   \n",
       "\n",
       "   Completed Prep Course  Recommend Prep Course  Prediction  \n",
       "0                      0                      1           1  \n",
       "1                      0                      0           1  \n",
       "2                      1                      0           0  \n",
       "3                      1                      1           1  \n",
       "4                      0                      1           0  "
      ]
     },
     "execution_count": 5,
     "metadata": {},
     "output_type": "execute_result"
    }
   ],
   "source": [
    "df.head()"
   ]
  },
  {
   "cell_type": "markdown",
   "metadata": {},
   "source": [
    "# Examine Predictions"
   ]
  },
  {
   "cell_type": "markdown",
   "metadata": {},
   "source": [
    "## What percentage of students who failed the exam were correctly identified?\n",
    "1047 students failed the writing exam.<br>\n",
    "770 students of the 1047 who failed the exam were correctly identified.<br>\n",
    "**This calculates to 73.5% of students failed the exam were correctly identified as students who might fail.**<br>\n",
    "**92.7% of students identified as needing the exam prep failed or scored within 10 points of failing. This provides extra opportunity for students who are teetering on the edge of failing the exam.**"
   ]
  },
  {
   "cell_type": "code",
   "execution_count": 6,
   "metadata": {},
   "outputs": [
    {
     "data": {
      "text/plain": [
       "education                1047\n",
       "gender_male              1047\n",
       "lunch_standard           1047\n",
       "writing score            1047\n",
       "Completed Prep Course    1047\n",
       "Recommend Prep Course    1047\n",
       "Prediction               1047\n",
       "dtype: int64"
      ]
     },
     "execution_count": 6,
     "metadata": {},
     "output_type": "execute_result"
    }
   ],
   "source": [
    "# Get count of total students who failed the exam\n",
    "df.loc[(df['Recommend Prep Course']==1)].count()"
   ]
  },
  {
   "cell_type": "code",
   "execution_count": 7,
   "metadata": {},
   "outputs": [
    {
     "data": {
      "text/plain": [
       "education                770\n",
       "gender_male              770\n",
       "lunch_standard           770\n",
       "writing score            770\n",
       "Completed Prep Course    770\n",
       "Recommend Prep Course    770\n",
       "Prediction               770\n",
       "dtype: int64"
      ]
     },
     "execution_count": 7,
     "metadata": {},
     "output_type": "execute_result"
    }
   ],
   "source": [
    "# Get count of number of students who need to take the prep course (even if they have already)\n",
    "df.loc[(df['Recommend Prep Course']==1)&(df['Prediction']==1)].count()"
   ]
  },
  {
   "cell_type": "code",
   "execution_count": 8,
   "metadata": {},
   "outputs": [
    {
     "data": {
      "text/plain": [
       "education                971\n",
       "gender_male              971\n",
       "lunch_standard           971\n",
       "writing score            971\n",
       "Completed Prep Course    971\n",
       "Recommend Prep Course    971\n",
       "Prediction               971\n",
       "dtype: int64"
      ]
     },
     "execution_count": 8,
     "metadata": {},
     "output_type": "execute_result"
    }
   ],
   "source": [
    "# Get count of number of students who failed and were cutting it close by 10 points (even if they have already)\n",
    "df.loc[(df['writing score']<79.5)&(df['Prediction']==1)].count()"
   ]
  },
  {
   "cell_type": "markdown",
   "metadata": {},
   "source": [
    "## What percentage of students who failed the exam and have not completed the prep course before are correctly identified?\n",
    "808 students who have not taken the prep course before have failed the exam.<br>\n",
    "653 of the 808 students who have not taken the prep course and have failed the exam were correctly identified.<br>\n",
    "**80.8% of students who have failed and not taken the prep course were accurately identified as students who should be recommended to take the prep course.**"
   ]
  },
  {
   "cell_type": "code",
   "execution_count": 9,
   "metadata": {},
   "outputs": [
    {
     "data": {
      "text/plain": [
       "education                808\n",
       "gender_male              808\n",
       "lunch_standard           808\n",
       "writing score            808\n",
       "Completed Prep Course    808\n",
       "Recommend Prep Course    808\n",
       "Prediction               808\n",
       "dtype: int64"
      ]
     },
     "execution_count": 9,
     "metadata": {},
     "output_type": "execute_result"
    }
   ],
   "source": [
    "# Get count of number of students who need to take the prep course and have not already\n",
    "df.loc[(df['Recommend Prep Course']==1)&(df['Completed Prep Course']==0)].count()"
   ]
  },
  {
   "cell_type": "code",
   "execution_count": 10,
   "metadata": {},
   "outputs": [
    {
     "data": {
      "text/plain": [
       "education                653\n",
       "gender_male              653\n",
       "lunch_standard           653\n",
       "writing score            653\n",
       "Completed Prep Course    653\n",
       "Recommend Prep Course    653\n",
       "Prediction               653\n",
       "dtype: int64"
      ]
     },
     "execution_count": 10,
     "metadata": {},
     "output_type": "execute_result"
    }
   ],
   "source": [
    "df.loc[(df['Prediction']==1)&(df['Recommend Prep Course']==1)&(df['Completed Prep Course']==0)].count()"
   ]
  },
  {
   "cell_type": "markdown",
   "metadata": {},
   "source": [
    "## What percentage of students who were not identified have not taken the exam prep course before?\n",
    "**14.8% of students who failed the exam have not taken the exam prep course and were missed by the model's prediction.**<br>\n",
    "**11.7% of students who failed the exam have taken the exam prep course and were missed by the model's prediction.**"
   ]
  },
  {
   "cell_type": "code",
   "execution_count": 11,
   "metadata": {},
   "outputs": [
    {
     "data": {
      "text/plain": [
       "education                155\n",
       "gender_male              155\n",
       "lunch_standard           155\n",
       "writing score            155\n",
       "Completed Prep Course    155\n",
       "Recommend Prep Course    155\n",
       "Prediction               155\n",
       "dtype: int64"
      ]
     },
     "execution_count": 11,
     "metadata": {},
     "output_type": "execute_result"
    }
   ],
   "source": [
    "# Get count of number of students who need to take the prep course, have not already, and were not identified\n",
    "df.loc[(df['Recommend Prep Course']==1)&(df['Completed Prep Course']==0)&(df['Prediction']==0)].count()"
   ]
  },
  {
   "cell_type": "code",
   "execution_count": 12,
   "metadata": {},
   "outputs": [
    {
     "data": {
      "text/plain": [
       "education                122\n",
       "gender_male              122\n",
       "lunch_standard           122\n",
       "writing score            122\n",
       "Completed Prep Course    122\n",
       "Recommend Prep Course    122\n",
       "Prediction               122\n",
       "dtype: int64"
      ]
     },
     "execution_count": 12,
     "metadata": {},
     "output_type": "execute_result"
    }
   ],
   "source": [
    "# Get count of number of students who need to take the prep course and have not already\n",
    "df.loc[(df['Recommend Prep Course']==1)&(df['Completed Prep Course']==1)&(df['Prediction']==0)].count()"
   ]
  },
  {
   "cell_type": "code",
   "execution_count": null,
   "metadata": {},
   "outputs": [],
   "source": []
  }
 ],
 "metadata": {
  "kernelspec": {
   "display_name": "Python 3",
   "language": "python",
   "name": "python3"
  },
  "language_info": {
   "codemirror_mode": {
    "name": "ipython",
    "version": 3
   },
   "file_extension": ".py",
   "mimetype": "text/x-python",
   "name": "python",
   "nbconvert_exporter": "python",
   "pygments_lexer": "ipython3",
   "version": "3.8.2"
  }
 },
 "nbformat": 4,
 "nbformat_minor": 4
}
